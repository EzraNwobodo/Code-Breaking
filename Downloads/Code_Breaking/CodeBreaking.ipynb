{
 "cells": [
  {
   "cell_type": "markdown",
   "id": "bd575722",
   "metadata": {},
   "source": [
    "# Code Breaking with Statistical Physics "
   ]
  },
  {
   "cell_type": "markdown",
   "id": "c1c54278-9a03-468c-899a-616354361a76",
   "metadata": {},
   "source": [
    "## Authors\n",
    "\n",
    "##### David Chattaway, Alan Gleeson, Ezra Nwobodo, Eman Sajid, William Todd"
   ]
  },
  {
   "cell_type": "markdown",
   "id": "4b70260f-6de2-489e-a594-c9cf28ee03d0",
   "metadata": {
    "tags": []
   },
   "source": [
    "## Contents\n",
    "\n",
    "##### 0 - Cipher Texts Used\n",
    "\n",
    "##### 1 - History of Decryption Methods\n",
    "\n",
    "##### 2 - The Ceasar Cypher\n",
    "\n",
    "##### 3 - Frequency Analysis\n",
    "\n",
    "##### 4 - The Metropolis-Hastings Algorithm - Using Ideas From Statistical Physics\n",
    "\n",
    "##### 5 - Modifications to the Metropolis Function\n",
    "\n",
    "##### 6 - Number of Manual Adjustments for the Frequency Analysis Procedure\n",
    "\n",
    "##### 7 - Analysis of the Simulated Annealing Procedure\n",
    "\n",
    "##### 8 - Conclusion\n",
    "\n",
    "##### 9 - Bibliography\n"
   ]
  },
  {
   "cell_type": "markdown",
   "id": "deb3945b-59f2-4497-b9bb-b77210a81f11",
   "metadata": {},
   "source": [
    "## 0 - Cipher Texts Used"
   ]
  },
  {
   "cell_type": "code",
   "execution_count": 25,
   "id": "44098a53-5593-405a-b580-6a98331d8ec3",
   "metadata": {},
   "outputs": [],
   "source": [
    "ciphertexts=dict()\n",
    "\n",
    "ciphertexts[1]=\"GPKZFER JRSER EKWIGIWKWVRZ YZRCWMWCRSEVRYWEWISCRGLIGFJWRGIFYISDD EYRCSEYLSYWRGPKZFEJRVWJ YERGZ CFJFGZPRWDGZSJ QWJRUFVWRIWSVST C KPRN KZR KJREFKSTCWRLJWRFXRJ YE X USEKR EVWEKSK FER KJRCSEYLSYWRUFEJKILUKJRSEVRFTAWUKRFI WEKWVRSGGIFSUZRS DRKFRZWCGRGIFYISDDWIJRNI KWRUCWSIRCFY USCRUFVWRXFIRJDSCCRSEVRCSIYWRJUSCWRGIFAWUKJ\"\n",
    "\n",
    "ciphertexts[2]=\"RECFV KUWE VJCRWQFCRCFICYWEZRWKLVJWQF SCRRZ ALVWJLAACFWNATZVW NFWIZRZT FWELYWVCSTWNRWLVTE NBEWZTWHLRWCLRMWS FWJCWHE WUACHWEZJWR WHCVVWT WRCCWTELTWECWHLRWQF S NAYVMWCPKZTCYWTECWJ JCATWTELTWEZVT AWKNGZTTWRWGF LYWGLKUWELYWYZRLQQCLFCYWTEF NBEWTECWY  FWJMWK JFLYCWFNRECYWT WTECWTLGVCWVLZYW NTWLVVWTECWRVZQRW SWQLQCFWK ATLZAZABWYLAKZABWJCAWZAWSF ATW SWEZJWLAYWTEFCHWEZJRCVSWZAT WLAWZATFZKLTCWLAYWCVLG FLTCWKLVKNVLTZ AWS FWTH WE NFRWZWHLTKECYWEZJWLRWECWK ICFCYWRECCTWLSTCFWRECCTW SWQLQCFWHZTEWSZBNFCRWLAYWVCTTCFRWR WK JQVCTCVMWLGR FGCYWZAWEZRWTLRUWTELTWECWELYWCIZYCATVMWS FB TTCAWJMWQFCRCAKCWR JCTZJCRWECWHLRWJLUZABWQF BFCRRWLAYWHEZRTVCYWLAYWRLABWLTWEZRWH FUWR JCTZJCRWECWHLRWQNDDVCYWLAYWH NVYWRZTWS FWV ABWRQCVVRWHZTEWLWSNFF HCYWGF HWLAYWLWILKLATWCMCWSZALVVMWECWRQFLABWSF JWEZRWKELZFWHZTEWLWKFMW SWRLTZRSLKTZ AWLAYWHLVUCYWNQWLAYWY HAWTECWF  JWFNGGZABWEZRWELAYRWT BCTECFWTECAWECWHF TCWLWV ABWTCVCBFLJWNQ AWLWKLGVCWS FJWZSWJMWLARHCFWT WTEZRWZRWLRWZWE QCWM NWHZVVWELICWLWICFMWQFCTTMWKLRCWT WLYYWT WM NFWK VVCKTZ AWHLTR AWRLZYWECWZWCPQCKTWTELTWHCWRELVVWGCWLGVCWT WB WY HAWT WA FS VUWT J FF HWLAYWT WTLUCW NFWSFZCAYWR JCWICFMWYCSZAZTCWACHRWLRWT WTECWRCKFCTW SWEZRWLAA MLAKCWZWK ASCRRWTELTWZWHLRWSZVVCYWHZTEWKNFZ RZTMWGNTWZWHLRWLHLFCWTELTWE VJCRWVZUCYWT WJLUCWEZRWYZRKV RNFCRWLTWEZRW HAWTZJCWLAYWZAWEZRW HAWHLMWR WZWHLZTCYWNATZVWZTWRE NVYWRNZTWEZJWT WTLUCWJCWZAT WEZRWK ASZYCAKCWGNTWTECFCWHLRWLWYCVLMWZAWTELTWLARHCFZABWTCVCBFLJWLAYWTH WYLMRW SWZJQLTZCAKCWS VV HCYWYNFZABWHEZKEWE VJCRWQFZKUCYWNQWEZRWCLFRWLTWCICFMWFZABW SWTECWGCVVW AWTECWCICAZABW SWTECWRCK AYWTECFCWKLJCWLWVCTTCFWSF JWEZVT AWKNGZTTWLVVWHLRWXNZCTWHZTEWEZJWRLICWTELTWLWV ABWZARKFZQTZ AWELYWLQQCLFCYWTELTWJ FAZABWNQ AWTECWQCYCRTLVW SWTECWRNAYZLVWECWZAKV RCYWLWK QMW SWZTWHEZKEWZRWECFCWFCQF YNKCYWCVRZCWQFCQLFCWT WJCCTWTEMWB YWE VJCRWGCATW ICFWTEZRWBF TCRXNCWSFZCDCWS FWR JCWJZANTCRWLAYWTECAWRNYYCAVMWRQFLABWT WEZRWSCCTWHZTEWLAWCPKVLJLTZ AW SWRNFQFZRCWLAYWYZRJLMWEZRWSLKCWHLRWELBBLFYWHZTEWLAPZCTM\"\n",
    "\n",
    "ciphertexts[4]=\"RJLHXTNERXWZEWZSXLESNIFWX TEKJAAS NYSVEWZSECYWKZEKJTVYAW TWVERSLSELYTTXTNETYPDSLVEDJVH AXVVELJASER VED VXK AAIEWJECJEWZSEK AKYA WXJTVEWZSEVYPVEDSLCJRVHXEV XCEVJERZSTEWZSEVWSLTEK PSEULSSEJTEPJTC IEPJLTXTNERSEK AKYA WSCEWZ WERSEVZJYACEASWEWJTTSVEJUER WSLED AA VWEXTE WEWZSELS LEJUEWZSEOSVVSAEWJEFYVZEWZSEVWSLTECJRTE TCEAXUWEWZSEDJR\"\n",
    "\n",
    "ciphertexts[5]=\"IZWLXSZF QEFLZTQUVLSZMIHZCIVLUZEDDZIUPZXLYAHLPZCQZLICZECZMIHZC QAO CZ QMLWLXZC ICZECHZIBBLCECLZTEO CZKLZHCETADICLPZKSZIZBEULIBBDL\"\n",
    "\n",
    "ciphertexts[7]=\"LOJ WUZCWKCTFHHFHTWUZFHQWMZEUW EAWKCWUZCWCHV\"\n",
    "\n",
    "ciphertexts[9]=\"WDYRDYLDQCSLR KTYDPYZ LXSKTYWDYQ U KTYZOITYGIDYCDYJSILPTYLDUDKOTYCIQYKQTP QPYODYPDRZTYCDQPDQCLDYODTYJL GIDRDQPTYSLH QKGIDTYCDTYMSKTDLKDTYCSIULKLYODTYADINYZSILYXKNDLYODYB ODKCSTJSZDYCDYOSMTJILKPDYCDYHSYPDLYHLYJDYIQDYOIDILYRSRDQP QYDYCDYJSQTJKDQJDYODYTSRRDKOYSIYDP KDQPYZOSQHYTYODTYRDIMODTYO YJF RMLDYODYPSIPYCSQPYWDYQDP KTYGIIQDYZDPKPDYZ LPKDYDPY YOKQTDQTKMKOKPDYCIGIDOYWDYLDPSILQ KTYUKPDYRIQKL\"\n"
   ]
  },
  {
   "cell_type": "markdown",
   "id": "88fa78ea",
   "metadata": {},
   "source": [
    "## 1 - History of Decryption Methods"
   ]
  },
  {
   "cell_type": "markdown",
   "id": "898bd47f",
   "metadata": {},
   "source": [
    "Decryption methods have evolved over time in response to advances in technology. Encryption techniques have become increasingly complex and difficult to crack. From the early days of using substitution ciphers to the modern era of artificial intelligence, decryption methods have come a long way.\n",
    "\n",
    "Throughout history, people have used various methods to keep and send secret messages safely. One of the earliest forms of encryption involved substituting one letter or symbol for another, such as the Caesar cipher famously used by Julius Caesar. With the invention of the telegraph in the mid-19th century, more complex encryption methods were developed, such as the Vigenère cipher. The development of electromechanical machines in the early 20th century allowed for more complex encryption methods, such as the Enigma machine used by Germany during World War II. Despite its advanced encryption capabilities, it was flawed as a given letter could be converted to any other letter except itself, and this was exploited by the Allied codebreakers [1].\n",
    "\n",
    "Frequency analysis has played a crucial role in the decryption of a variety of ciphers throughout history. Its importance was evident in the decryption of the Enigma machine. This technique, which involves analyzing the frequency of letters and patterns in an encrypted message, was discovered in the 9th century by the Arab mathematician Al-Kindi. His work on cryptography, including his book Risalah fi Istikhraj al-Mu'amma (Manuscript for Deciphering Cryptographic Messages), was the first known use of frequency analysis in decryption [2].\n",
    "\n",
    "Encryption methods have undergone a significant transformation due to technological advancements and the development of computers. The emergence of digital encryption algorithms such as DES and AES has enabled the scrambling of data using complex mathematical formulas, rendering it unreadable to anyone without the decryption key. With the increase in computing power, encryption methods have evolved to keep up. During the 1990s, the US government imposed restrictions on the export of encryption software with keys longer than 40 bits [1]. Today, encryption methods use keys of 128 bits or more to provide a high level of security. The rise of AI and machine learning has also had a profound impact on decryption techniques, as these technologies can analyse vast amounts of data and identify patterns, leading to faster and more accurate decryption methods.\n",
    "\n",
    "The evolution of decryption methods has been driven by the constant need to stay ahead of technological advancements and maintain the security of sensitive information. As technology continues to progress, so too will the methods used to encrypt and decrypt information."
   ]
  },
  {
   "cell_type": "markdown",
   "id": "e077908d",
   "metadata": {},
   "source": [
    "## 2 - The Ceasar Cypher"
   ]
  },
  {
   "cell_type": "markdown",
   "id": "141084b4",
   "metadata": {},
   "source": [
    "The Caesar Cipher, named after Julius Caesar, is a type of substitution cipher. This encryption technique is one of the oldest and simplest ways used to secure information and it operates by permuting the letters of the alphabet, where each letter is mapped to another letter that is a certain number of positions down the alphabet. The Caesar Cipher uses a simple cyclic shift function, which is applied consistently to all letters in the message. This makes it more challenging for an attacker to decipher the message without knowing the correct shift value. To decode the message, the receiver just needs to shift each letter back to its original position.\n",
    "\n",
    "Although the Caesar Cipher is quite easy to implement, it is vulnerable to brute-force attacks, which involves trying every possible shift value until the correct one is found. The Caesar Cipher is also susceptible to frequency analysis, which involves analysing the frequency of letters in the ciphertext to determine the most likely shift value. Therefore, if an attacker knows the ciphertext is in English, they can look for the most commonly occurring letters in the ciphertext and use this information to determine the most likely shift value. This approach is used when the ciphertext is very large so that it makes sense to consider frequency among letters.\n",
    "\n",
    "In the cell below, the code demonstrates a simple implementation of the Caesar Cipher encryption to break the first message. The `caesar()` function takes two arguments: text, which is the plaintext message to be encrypted, and shift, which is the number of positions by which each letter in the plaintext message is to be shifted. Inside the `caesar()` function, the result variable is initialized to an empty string. This variable will store the encrypted message. The for loop goes through every character in the text argument and applies the Caesar Cipher by shifting each letter by shift positions. This is achieved using modular arithmetic, which ensures that the shifted index of a character stays within the bounds of the alphabet list.\n",
    "\n",
    "The `current_index` variable stores the index of the current character in the alphabet list. The `shifted_index` variable calculates the index of the shifted character using modular arithmetic. The result string is updated with the shifted character. The `print()` function prints the encrypted message.\n",
    "\n",
    "Therefore, the code creates a list called shifts that contains the results of applying the `caesar()` function to the plaintext message for every possible shift value between 1 and 26. Each element of the shifts list is itself a string representing the encrypted message for a particular shift value."
   ]
  },
  {
   "cell_type": "code",
   "execution_count": 26,
   "id": "7a8029a3",
   "metadata": {
    "tags": []
   },
   "outputs": [
    {
     "name": "stdout",
     "output_type": "stream",
     "text": [
      "Original: \n",
      "GPKZFER JRSER EKWIGIWKWVRZ YZRCWMWCRSEVRYWEWISCRGLIGFJWRGIFYISDD EYRCSEYLSYWRGPKZFEJRVWJ YERGZ CFJFGZPRWDGZSJ QWJRUFVWRIWSVST C KPRN KZR KJREFKSTCWRLJWRFXRJ YE X USEKR EVWEKSK FER KJRCSEYLSYWRUFEJKILUKJRSEVRFTAWUKRFI WEKWVRSGGIFSUZRS DRKFRZWCGRGIFYISDDWIJRNI KWRUCWSIRCFY USCRUFVWRXFIRJDSCCRSEVRCSIYWRJUSCWRGIFAWUKJ \n",
      "\n",
      "Shift 1: \n",
      "HQL GFSAKSTFSAFLXJHJXLXWS AZ SDXNXDSTFWSZXFXJTDSHMJHGKXSHJGZJTEEAFZSDTFZMTZXSHQL GFKSWXKAZFSH ADGKGH QSXEH TKARXKSVGWXSJXTWTUADALQSOAL SALKSFGLTUDXSMKXSGYSKAZFAYAVTFLSAFWXFLTLAGFSALKSDTFZMTZXSVGFKLJMVLKSTFWSGUBXVLSGJAXFLXWSTHHJGTV STAESLGS XDHSHJGZJTEEXJKSOJALXSVDXTJSDGZAVTDSVGWXSYGJSKETDDSTFWSDTJZXSKVTDXSHJGBXVLK \n",
      "\n",
      "Shift 2: \n",
      "IRMAHGTBLTUGTBGMYKIKYMYXTAB ATEYOYETUGXT YGYKUETINKIHLYTIKH KUFFBG TEUG NU YTIRMAHGLTXYLB GTIABEHLHIARTYFIAULBSYLTWHXYTKYUXUVBEBMRTPBMATBMLTGHMUVEYTNLYTHZTLB GBZBWUGMTBGXYGMUMBHGTBMLTEUG NU YTWHGLMKNWMLTUGXTHVCYWMTHKBYGMYXTUIIKHUWATUBFTMHTAYEITIKH KUFFYKLTPKBMYTWEYUKTEH BWUETWHXYTZHKTLFUEETUGXTEUK YTLWUEYTIKHCYWML \n",
      "\n",
      "Shift 3: \n",
      "JSNBIHUCMUVHUCHNZLJLZNZYUBCABUFZPZFUVHYUAZHZLVFUJOLJIMZUJLIALVGGCHAUFVHAOVAZUJSNBIHMUYZMCAHUJBCFIMIJBSUZGJBVMCTZMUXIYZULZVYVWCFCNSUQCNBUCNMUHINVWFZUOMZUI UMCAHC CXVHNUCHYZHNVNCIHUCNMUFVHAOVAZUXIHMNLOXNMUVHYUIWDZXNUILCZHNZYUVJJLIVXBUVCGUNIUBZFJUJLIALVGGZLMUQLCNZUXFZVLUFIACXVFUXIYZU ILUMGVFFUVHYUFVLAZUMXVFZUJLIDZXNM \n",
      "\n",
      "Shift 4: \n",
      "KTOCJIVDNVWIVDIO MKM O ZVCDBCVG Q GVWIZVB I MWGVKPMKJN VKMJBMWHHDIBVGWIBPWB VKTOCJINVZ NDBIVKCDGJNJKCTV HKCWNDU NVYJZ VM WZWXDGDOTVRDOCVDONVIJOWXG VPN VJAVNDBIDADYWIOVDIZ IOWODJIVDONVGWIBPWB VYJINOMPYONVWIZVJXE YOVJMD IO ZVWKKMJWYCVWDHVOJVC GKVKMJBMWHH MNVRMDO VYG WMVGJBDYWGVYJZ VAJMVNHWGGVWIZVGWMB VNYWG VKMJE YON \n",
      "\n",
      "Shift 5: \n",
      "LUPDKJWEOWXJWEJPANLNAPA WDECDWHARAHWXJ WCAJANXHWLQNLKOAWLNKCNXIIEJCWHXJCQXCAWLUPDKJOW AOECJWLDEHKOKLDUWAILDXOEVAOWZK AWNAX XYEHEPUWSEPDWEPOWJKPXYHAWQOAWKBWOECJEBEZXJPWEJ AJPXPEKJWEPOWHXJCQXCAWZKJOPNQZPOWXJ WKYFAZPWKNEAJPA WXLLNKXZDWXEIWPKWDAHLWLNKCNXIIANOWSNEPAWZHAXNWHKCEZXHWZK AWBKNWOIXHHWXJ WHXNCAWOZXHAWLNKFAZPO \n",
      "\n",
      "Shift 6: \n",
      "MVQELKXFPXYKXFKQBOMOBQBAXEFDEXIBSBIXYKAXDBKBOYIXMROMLPBXMOLDOYJJFKDXIYKDRYDBXMVQELKPXABPFDKXMEFILPLMEVXBJMEYPFWBPX LABXOBYAYZFIFQVXTFQEXFQPXKLQYZIBXRPBXLCXPFDKFCF YKQXFKABKQYQFLKXFQPXIYKDRYDBX LKPQOR QPXYKAXLZGB QXLOFBKQBAXYMMOLY EXYFJXQLXEBIMXMOLDOYJJBOPXTOFQBX IBYOXILDF YIX LABXCLOXPJYIIXYKAXIYODBXP YIBXMOLGB QP \n",
      "\n",
      "Shift 7: \n",
      "NWRFMLYGQYZLYGLRCPNPCRCBYFGEFYJCTCJYZLBYECLCPZJYNSPNMQCYNPMEPZKKGLEYJZLESZECYNWRFMLQYBCQGELYNFGJMQMNFWYCKNFZQGXCQYAMBCYPCZBZ GJGRWYUGRFYGRQYLMRZ JCYSQCYMDYQGELGDGAZLRYGLBCLRZRGMLYGRQYJZLESZECYAMLQRPSARQYZLBYM HCARYMPGCLRCBYZNNPMZAFYZGKYRMYFCJNYNPMEPZKKCPQYUPGRCYAJCZPYJMEGAZJYAMBCYDMPYQKZJJYZLBYJZPECYQAZJCYNPMHCARQ \n",
      "\n",
      "Shift 8: \n",
      "OXSGNMZHRZ MZHMSDQOQDSDCZGHFGZKDUDKZ MCZFDMDQ KZOTQONRDZOQNFQ LLHMFZK MFT FDZOXSGNMRZCDRHFMZOGHKNRNOGXZDLOG RHYDRZBNCDZQD C AHKHSXZVHSGZHSRZMNS AKDZTRDZNEZRHFMHEHB MSZHMCDMS SHNMZHSRZK MFT FDZBNMRSQTBSRZ MCZNAIDBSZNQHDMSDCZ OOQN BGZ HLZSNZGDKOZOQNFQ LLDQRZVQHSDZBKD QZKNFHB KZBNCDZENQZRL KKZ MCZK QFDZRB KDZOQNIDBSR \n",
      "\n",
      "Shift 9: \n",
      "PYTHON IS AN INTERPRETED HIGH LEVEL AND GENERAL PURPOSE PROGRAMMING LANGUAGE PYTHONS DESIGN PHILOSOPHY EMPHASIZES CODE READABILITY WITH ITS NOTABLE USE OF SIGNIFICANT INDENTATION ITS LANGUAGE CONSTRUCTS AND OBJECT ORIENTED APPROACH AIM TO HELP PROGRAMMERS WRITE CLEAR LOGICAL CODE FOR SMALL AND LARGE SCALE PROJECTS \n",
      "\n",
      "Shift 10: \n",
      "QZUIPOAJTABOAJOUFSQSFUFEAIJHIAMFWFMABOEAHFOFSBMAQVSQPTFAQSPHSBNNJOHAMBOHVBHFAQZUIPOTAEFTJHOAQIJMPTPQIZAFNQIBTJ FTADPEFASFBEBCJMJUZAXJUIAJUTAOPUBCMFAVTFAPGATJHOJGJDBOUAJOEFOUBUJPOAJUTAMBOHVBHFADPOTUSVDUTABOEAPCKFDUAPSJFOUFEABQQSPBDIABJNAUPAIFMQAQSPHSBNNFSTAXSJUFADMFBSAMPHJDBMADPEFAGPSATNBMMABOEAMBSHFATDBMFAQSPKFDUT \n",
      "\n",
      "Shift 11: \n",
      "R VJQPBKUBCPBKPVGTRTGVGFBJKIJBNGXGNBCPFBIGPGTCNBRWTRQUGBRTQITCOOKPIBNCPIWCIGBR VJQPUBFGUKIPBRJKNQUQRJ BGORJCUKAGUBEQFGBTGCFCDKNKV BYKVJBKVUBPQVCDNGBWUGBQHBUKIPKHKECPVBKPFGPVCVKQPBKVUBNCPIWCIGBEQPUVTWEVUBCPFBQDLGEVBQTKGPVGFBCRRTQCEJBCKOBVQBJGNRBRTQITCOOGTUBYTKVGBENGCTBNQIKECNBEQFGBHQTBUOCNNBCPFBNCTIGBUECNGBRTQLGEVU \n",
      "\n",
      "Shift 12: \n",
      "SAWKRQCLVCDQCLQWHUSUHWHGCKLJKCOHYHOCDQGCJHQHUDOCSXUSRVHCSURJUDPPLQJCODQJXDJHCSAWKRQVCGHVLJQCSKLORVRSKACHPSKDVLBHVCFRGHCUHDGDELOLWACZLWKCLWVCQRWDEOHCXVHCRICVLJQLILFDQWCLQGHQWDWLRQCLWVCODQJXDJHCFRQVWUXFWVCDQGCREMHFWCRULHQWHGCDSSURDFKCDLPCWRCKHOSCSURJUDPPHUVCZULWHCFOHDUCORJLFDOCFRGHCIRUCVPDOOCDQGCODUJHCVFDOHCSURMHFWV \n",
      "\n",
      "Shift 13: \n",
      "TBXLSRDMWDERDMRXIVTVIXIHDLMKLDPIZIPDERHDKIRIVEPDTYVTSWIDTVSKVEQQMRKDPERKYEKIDTBXLSRWDHIWMKRDTLMPSWSTLBDIQTLEWMCIWDGSHIDVIEHEFMPMXBD MXLDMXWDRSXEFPIDYWIDSJDWMKRMJMGERXDMRHIRXEXMSRDMXWDPERKYEKIDGSRWXVYGXWDERHDSFNIGXDSVMIRXIHDETTVSEGLDEMQDXSDLIPTDTVSKVEQQIVWD VMXIDGPIEVDPSKMGEPDGSHIDJSVDWQEPPDERHDPEVKIDWGEPIDTVSNIGXW \n",
      "\n",
      "Shift 14: \n",
      "UCYMTSENXEFSENSYJWUWJYJIEMNLMEQJ JQEFSIELJSJWFQEUZWUTXJEUWTLWFRRNSLEQFSLZFLJEUCYMTSXEIJXNLSEUMNQTXTUMCEJRUMFXNDJXEHTIJEWJFIFGNQNYCEANYMENYXESTYFGQJEZXJETKEXNLSNKNHFSYENSIJSYFYNTSENYXEQFSLZFLJEHTSXYWZHYXEFSIETGOJHYETWNJSYJIEFUUWTFHMEFNREYTEMJQUEUWTLWFRRJWXEAWNYJEHQJFWEQTLNHFQEHTIJEKTWEXRFQQEFSIEQFWLJEXHFQJEUWTOJHYX \n",
      "\n",
      "Shift 15: \n",
      "VDZNUTFOYFGTFOTZKXVXKZKJFNOMNFRKAKRFGTJFMKTKXGRFV XVUYKFVXUMXGSSOTMFRGTM GMKFVDZNUTYFJKYOMTFVNORUYUVNDFKSVNGYOEKYFIUJKFXKGJGHOROZDFBOZNFOZYFTUZGHRKF YKFULFYOMTOLOIGTZFOTJKTZGZOUTFOZYFRGTM GMKFIUTYZX IZYFGTJFUHPKIZFUXOKTZKJFGVVXUGINFGOSFZUFNKRVFVXUMXGSSKXYFBXOZKFIRKGXFRUMOIGRFIUJKFLUXFYSGRRFGTJFRGXMKFYIGRKFVXUPKIZY \n",
      "\n",
      "Shift 16: \n",
      "WE OVUGPZGHUGPU LYWYL LKGOPNOGSLBLSGHUKGNLULYHSGWAYWVZLGWYVNYHTTPUNGSHUNAHNLGWE OVUZGKLZPNUGWOPSVZVWOEGLTWOHZPFLZGJVKLGYLHKHIPSP EGCP OGP ZGUV HISLGAZLGVMGZPNUPMPJHU GPUKLU H PVUGP ZGSHUNAHNLGJVUZ YAJ ZGHUKGVIQLJ GVYPLU LKGHWWYVHJOGHPTG VGOLSWGWYVNYHTTLYZGCYP LGJSLHYGSVNPJHSGJVKLGMVYGZTHSSGHUKGSHYNLGZJHSLGWYVQLJ Z \n",
      "\n",
      "Shift 17: \n",
      "XFAPWVHQ HIVHQVAMZXZMAMLHPQOPHTMCMTHIVLHOMVMZITHXBZXW MHXZWOZIUUQVOHTIVOBIOMHXFAPWV HLM QOVHXPQTW WXPFHMUXPI QGM HKWLMHZMILIJQTQAFHDQAPHQA HVWAIJTMHB MHWNH QOVQNQKIVAHQVLMVAIAQWVHQA HTIVOBIOMHKWV AZBKA HIVLHWJRMKAHWZQMVAMLHIXXZWIKPHIQUHAWHPMTXHXZWOZIUUMZ HDZQAMHKTMIZHTWOQKITHKWLMHNWZH UITTHIVLHTIZOMH KITMHXZWRMKA  \n",
      "\n",
      "Shift 18: \n",
      "YGBQXWIRAIJWIRWBN Y NBNMIQRPQIUNDNUIJWMIPNWN JUIYC YXANIY XP JVVRWPIUJWPCJPNIYGBQXWAIMNARPWIYQRUXAXYQGINVYQJARHNAILXMNI NJMJKRURBGIERBQIRBAIWXBJKUNICANIXOIARPWRORLJWBIRWMNWBJBRXWIRBAIUJWPCJPNILXWAB CLBAIJWMIXKSNLBIX RNWBNMIJYY XJLQIJRVIBXIQNUYIY XP JVVN AIE RBNILUNJ IUXPRLJUILXMNIOX IAVJUUIJWMIUJ PNIALJUNIY XSNLBA \n",
      "\n",
      "Shift 19: \n",
      "ZHCRYXJSBJKXJSXCOAZAOCONJRSQRJVOEOVJKXNJQOXOAKVJZDAZYBOJZAYQAKWWSXQJVKXQDKQOJZHCRYXBJNOBSQXJZRSVYBYZRHJOWZRKBSIOBJMYNOJAOKNKLSVSCHJFSCRJSCBJXYCKLVOJDBOJYPJBSQXSPSMKXCJSXNOXCKCSYXJSCBJVKXQDKQOJMYXBCADMCBJKXNJYLTOMCJYASOXCONJKZZAYKMRJKSWJCYJROVZJZAYQAKWWOABJFASCOJMVOKAJVYQSMKVJMYNOJPYAJBWKVVJKXNJVKAQOJBMKVOJZAYTOMCB \n",
      "\n",
      "Shift 20: \n",
      " IDSZYKTCKLYKTYDPB BPDPOKSTRSKWPFPWKLYOKRPYPBLWK EB ZCPK BZRBLXXTYRKWLYRELRPK IDSZYCKOPCTRYK STWZCZ SIKPX SLCTJPCKNZOPKBPLOLMTWTDIKGTDSKTDCKYZDLMWPKECPKZQKCTRYTQTNLYDKTYOPYDLDTZYKTDCKWLYRELRPKNZYCDBENDCKLYOKZMUPNDKZBTPYDPOKL  BZLNSKLTXKDZKSPW K BZRBLXXPBCKGBTDPKNWPLBKWZRTNLWKNZOPKQZBKCXLWWKLYOKWLBRPKCNLWPK BZUPNDC \n",
      "\n",
      "Shift 21: \n",
      "AJET ZLUDLMZLUZEQCACQEQPLTUSTLXQGQXLMZPLSQZQCMXLAFCA DQLAC SCMYYUZSLXMZSFMSQLAJET ZDLPQDUSZLATUX D ATJLQYATMDUKQDLO PQLCQMPMNUXUEJLHUETLUEDLZ EMNXQLFDQL RLDUSZURUOMZELUZPQZEMEU ZLUEDLXMZSFMSQLO ZDECFOEDLMZPL NVQOEL CUQZEQPLMAAC MOTLMUYLE LTQXALAC SCMYYQCDLHCUEQLOXQMCLX SUOMXLO PQLR CLDYMXXLMZPLXMCSQLDOMXQLAC VQOED \n",
      "\n",
      "Shift 22: \n",
      "BKFUA MVEMN MV FRDBDRFRQMUVTUMYRHRYMN QMTR RDNYMBGDBAERMBDATDNZZV TMYN TGNTRMBKFUA EMQREVT MBUVYAEABUKMRZBUNEVLREMPAQRMDRNQNOVYVFKMIVFUMVFEM AFNOYRMGERMASMEVT VSVPN FMV QR FNFVA MVFEMYN TGNTRMPA EFDGPFEMN QMAOWRPFMADVR FRQMNBBDANPUMNVZMFAMURYBMBDATDNZZRDEMIDVFRMPYRNDMYATVPNYMPAQRMSADMEZNYYMN QMYNDTRMEPNYRMBDAWRPFE \n",
      "\n",
      "Shift 23: \n",
      "CLGVBANWFNOANWAGSECESGSRNVWUVNZSISZNOARNUSASEOZNCHECBFSNCEBUEO  WAUNZOAUHOUSNCLGVBAFNRSFWUANCVWZBFBCVLNS CVOFWMSFNQBRSNESOROPWZWGLNJWGVNWGFNABGOPZSNHFSNBTNFWUAWTWQOAGNWARSAGOGWBANWGFNZOAUHOUSNQBAFGEHQGFNOARNBPXSQGNBEWSAGSRNOCCEBOQVNOW NGBNVSZCNCEBUEO  SEFNJEWGSNQZSOENZBUWQOZNQBRSNTBENF OZZNOARNZOEUSNFQOZSNCEBXSQGF \n",
      "\n",
      "Shift 24: \n",
      "DMHWCBOXGOPBOXBHTFDFTHTSOWXVWO TJT OPBSOVTBTFP ODIFDCGTODFCVFPAAXBVO PBVIPVTODMHWCBGOSTGXVBODWX CGCDWMOTADWPGXNTGORCSTOFTPSPQX XHMOKXHWOXHGOBCHPQ TOIGTOCUOGXVBXUXRPBHOXBSTBHPHXCBOXHGO PBVIPVTORCBGHFIRHGOPBSOCQYTRHOCFXTBHTSOPDDFCPRWOPXAOHCOWT DODFCVFPAATFGOKFXHTOR TPFO CVXRP ORCSTOUCFOGAP  OPBSO PFVTOGRP TODFCYTRHG \n",
      "\n",
      "Shift 25: \n",
      "ENIXDCPYHPQCPYCIUGEGUIUTPXYWXPAUKUAPQCTPWUCUGQAPEJGEDHUPEGDWGQBBYCWPAQCWJQWUPENIXDCHPTUHYWCPEXYADHDEXNPUBEXQHYOUHPSDTUPGUQTQRYAYINPLYIXPYIHPCDIQRAUPJHUPDVPHYWCYVYSQCIPYCTUCIQIYDCPYIHPAQCWJQWUPSDCHIGJSIHPQCTPDRZUSIPDGYUCIUTPQEEGDQSXPQYBPIDPXUAEPEGDWGQBBUGHPLGYIUPSAUQGPADWYSQAPSDTUPVDGPHBQAAPQCTPAQGWUPHSQAUPEGDZUSIH \n",
      "\n",
      "Shift 26: \n",
      "FOJYEDQZIQRDQZDJVHFHVJVUQYZXYQBVLVBQRDUQXVDVHRBQFKHFEIVQFHEXHRCCZDXQBRDXKRXVQFOJYEDIQUVIZXDQFYZBEIEFYOQVCFYRIZPVIQTEUVQHVRURSZBZJOQMZJYQZJIQDEJRSBVQKIVQEWQIZXDZWZTRDJQZDUVDJRJZEDQZJIQBRDXKRXVQTEDIJHKTJIQRDUQES VTJQEHZVDJVUQRFFHERTYQRZCQJEQYVBFQFHEXHRCCVHIQMHZJVQTBVRHQBEXZTRBQTEUVQWEHQICRBBQRDUQBRHXVQITRBVQFHE VTJI \n",
      "\n"
     ]
    }
   ],
   "source": [
    "message_one = ciphertexts[1]\n",
    "\n",
    "# List of every character \n",
    "alphabet = \"A,B,C,D,E,F,G,H,I,J,K,L,M,N,O,P,Q,R,S,T,U,V,W,X,Y,Z, \".split(',')\n",
    "\n",
    "def caesar(text, shift):\n",
    "    result = ''\n",
    "    \n",
    "    # Goes through every character in the text and shifts it by 'shift'. Achieve this using modular arithmetic.\n",
    "    # char.index() finds the index of an given character in our 'chars' list.\n",
    "    # Adds each shifted character to a result string.\n",
    "    for char in text:\n",
    "        current_index = alphabet.index(char)\n",
    "        shifted_index = (current_index + shift) % 27\n",
    "        \n",
    "        result += alphabet[shifted_index]\n",
    "        \n",
    "    return result\n",
    "        \n",
    "# Print the result of every shift\n",
    "original = print(f'Original: \\n{caesar(message_one, 0)} \\n')\n",
    "shifts = [print(f'Shift {i}: \\n{caesar(message_one, i)} \\n') for i in range(1,27)]"
   ]
  },
  {
   "cell_type": "markdown",
   "id": "efbade3b",
   "metadata": {},
   "source": [
    "As seen from the output, a shift of 9 is what correctly revealed the message: PYTHON IS AN INTERPRETED HIGH LEVEL AND GENERAL PURPOSE PROGRAMMING LANGUAGE PYTHONS DESIGN PHILOSOPHY EMPHASIZES CODE READABILITY WITH ITS NOTABLE USE OF SIGNIFICANT INDENTATION ITS LANGUAGE CONSTRUCTS AND OBJECT ORIENTED APPROACH AIM TO HELP PROGRAMMERS WRITE CLEAR LOGICAL CODE FOR SMALL AND LARGE SCALE PROJECTS. "
   ]
  },
  {
   "cell_type": "markdown",
   "id": "963afb9b",
   "metadata": {},
   "source": [
    "---\n",
    "#### Message 1\n",
    "\n",
    "Python is an interpreted, high-level, and general-purpose programming language. Python's design philosophy emphasizes code readability, with its notable use of significant indentation. Its language constructs and object-oriented approach aim to help programmers write clear, logical code for small and large-scale projects.\n",
    "\n",
    "---"
   ]
  },
  {
   "cell_type": "markdown",
   "id": "490bcfca",
   "metadata": {
    "tags": []
   },
   "source": [
    "## 3 - Frequency Analysis"
   ]
  },
  {
   "cell_type": "markdown",
   "id": "71420d28",
   "metadata": {
    "tags": []
   },
   "source": [
    "Frequency analysis is a form of cryptanalysis that expoloits the frequency of letters in a language. Certain letters or combinations are used more frequently than others for example, the letters E, T, A and O are the most commonly used letters in the English language. We can analyse the frequency of each letter by looking at a large amount of text which will accurately represent the language as a whole. In this case we will use the novel Moby Dick by Herman Melville as an example. \n",
    "\n",
    "Before we can use this text in our anlysis, we must 'clean' the file in order obtain the more accurate data. This is especially useful for the Metropolis algorithm covered later."
   ]
  },
  {
   "cell_type": "code",
   "execution_count": 27,
   "id": "9f5cc03b",
   "metadata": {},
   "outputs": [
    {
     "name": "stdout",
     "output_type": "stream",
     "text": [
      " :213269\n",
      "E:112269\n",
      "T:84440\n",
      "A:74629\n",
      "O:66589\n",
      "N:63103\n",
      "I:63022\n",
      "S:61615\n",
      "H:60201\n",
      "R:49997\n",
      "L:41110\n",
      "D:36718\n",
      "U:25695\n",
      "M:22309\n",
      "C:21723\n",
      "W:21187\n",
      "F:20024\n",
      "G:19985\n",
      "P:16619\n",
      "Y:16223\n",
      "B:16141\n",
      "V:8238\n",
      "K:7727\n",
      "Q:1528\n",
      "J:1043\n",
      "X:994\n",
      "Z:617\n"
     ]
    }
   ],
   "source": [
    "# Import and clean text file\n",
    "import requests \n",
    "import os\n",
    "import sys\n",
    "\n",
    "url='http://www.gutenberg.org/files/2701/2701-0.txt'\n",
    "moby = requests.get(url).text\n",
    "\n",
    "with open(os.path.join(sys.path[0],'moby.txt'),'w',errors='ignore') as f:\n",
    "    f.write(moby) # write to file\n",
    "with open(os.path.join(sys.path[0],'moby.txt'),'r',errors='ignore') as f:\n",
    "    moby = f.read() # read from file\n",
    "\n",
    "# First remove preamble and postamble then make all upper case\n",
    "\n",
    "moby = moby.upper()[28794:1206534]\n",
    "\n",
    "all_chars = dict()\n",
    "\n",
    "# Use dictionary methods to scan every character, assess whether or not it's in the dictionary\n",
    "# already, and if not, add it to the dictionary. (In general dictionaries are far more efficient \n",
    "# than lists for processing large amounts of data due to a useful data structure called a hash-map'\n",
    "\n",
    "for char in moby:\n",
    "    all_chars.setdefault(char) \n",
    "\n",
    "# Either replace redundant characters (associated with processing text files) with spaces or \n",
    "# delete.\n",
    "redundant = []\n",
    "for char in all_chars.keys():\n",
    "    if not char in alphabet:\n",
    "        redundant.append(char)\n",
    "\n",
    "moby = moby.replace('\\n', ' ')\n",
    "moby = moby.replace('\\x80', ' ')\n",
    "for symbol in redundant:\n",
    "    moby = moby.replace(symbol, '')\n",
    "\n",
    "# Use Counter() to count the frequency of each letter and most_common() to organise these from \n",
    "# highest to lowest.\n",
    "from collections import Counter\n",
    "\n",
    "letter_counts=Counter(moby)\n",
    "allowed_characters = set(alphabet)\n",
    "for letter,count in letter_counts.most_common():\n",
    "    if letter in allowed_characters:\n",
    "        print(f\"{letter}:{count}\")"
   ]
  },
  {
   "cell_type": "markdown",
   "id": "b11acd6b",
   "metadata": {},
   "source": [
    "We will now find the most common characters in our encoded message and substitute the kth most common character in the message to the kth most common letter in English (Moby Dick). This should be effective as the message is very long which makes it ideal for frequency analysis. To do this we use  ```substitution_map``` to pair all the corresponding letters together. We then define ```decrypted_message``` as the result of this mapping. "
   ]
  },
  {
   "cell_type": "code",
   "execution_count": 28,
   "id": "c207fffb",
   "metadata": {
    "tags": []
   },
   "outputs": [
    {
     "name": "stdout",
     "output_type": "stream",
     "text": [
      "W:366\n",
      "C:181\n",
      "T:141\n",
      "L:132\n",
      " :125\n",
      "Z:116\n",
      "R:107\n",
      "E:98\n",
      "A:97\n",
      "F:88\n",
      "V:70\n",
      "Y:69\n",
      "H:47\n",
      "J:45\n",
      "K:44\n",
      "S:40\n",
      "N:39\n",
      "Q:35\n",
      "B:28\n",
      "M:26\n",
      "G:18\n",
      "U:13\n",
      "I:12\n",
      "P:4\n",
      "D:3\n",
      "X:2\n"
     ]
    }
   ],
   "source": [
    "message_two = ciphertexts[2]\n",
    "letter_counts=Counter(message_two)\n",
    "for letter,count in letter_counts.most_common():\n",
    "    print(f\"{letter}:{count}\")"
   ]
  },
  {
   "cell_type": "code",
   "execution_count": 29,
   "id": "c7bc270b",
   "metadata": {
    "tags": []
   },
   "outputs": [
    {
     "name": "stdout",
     "output_type": "stream",
     "text": [
      "ISERLOCV SOLMEI GREIERKED SNI CALM GROWEIINOHAL MAHHER FHTNL OFR KNINTOR SAD LEWT FI ALTSOFPS NT UAI EAIY WOR ME USO VHEU SNM IO UELL TO IEE TSAT SE UAI GROWOFHDLY EQCNTED TSE MOMEHT TSAT SNLTOH CFBNTT I BROAD BACV SAD DNIAGGEARED TSROFPS TSE DOOR MY COMRADE RFISED TO TSE TABLE LAND OFT ALL TSE ILNGI OW GAGER COHTANHNHP DAHCNHP MEH NH WROHT OW SNM AHD TSREU SNMIELW NHTO AH NHTRNCATE AHD ELABORATE CALCFLATNOH WOR TUO SOFRI N UATCSED SNM AI SE COKERED ISEET AWTER ISEET OW GAGER UNTS WNPFREI AHD LETTERI IO COMGLETELY ABIORBED NH SNI TAIV TSAT SE SAD EKNDEHTLY WORPOTTEH MY GREIEHCE IOMETNMEI SE UAI MAVNHP GROPREII AHD USNITLED AHD IAHP AT SNI UORV IOMETNMEI SE UAI GFJJLED AHD UOFLD INT WOR LOHP IGELLI UNTS A WFRROUED BROU AHD A KACAHT EYE WNHALLY SE IGRAHP WROM SNI CSANR UNTS A CRY OW IATNIWACTNOH AHD UALVED FG AHD DOUH TSE ROOM RFBBNHP SNI SAHDI TOPETSER TSEH SE UROTE A LOHP TELEPRAM FGOH A CABLE WORM NW MY AHIUER TO TSNI NI AI N SOGE YOF UNLL SAKE A KERY GRETTY CAIE TO ADD TO YOFR COLLECTNOH UATIOH IAND SE N EQGECT TSAT UE ISALL BE ABLE TO PO DOUH TO HORWOLV TOMORROU AHD TO TAVE OFR WRNEHD IOME KERY DEWNHNTE HEUI AI TO TSE IECRET OW SNI AHHOYAHCE N COHWEII TSAT N UAI WNLLED UNTS CFRNOINTY BFT N UAI AUARE TSAT SOLMEI LNVED TO MAVE SNI DNICLOIFREI AT SNI OUH TNME AHD NH SNI OUH UAY IO N UANTED FHTNL NT ISOFLD IFNT SNM TO TAVE ME NHTO SNI COHWNDEHCE BFT TSERE UAI A DELAY NH TSAT AHIUERNHP TELEPRAM AHD TUO DAYI OW NMGATNEHCE WOLLOUED DFRNHP USNCS SOLMEI GRNCVED FG SNI EARI AT EKERY RNHP OW TSE BELL OH TSE EKEHNHP OW TSE IECOHD TSERE CAME A LETTER WROM SNLTOH CFBNTT ALL UAI XFNET UNTS SNM IAKE TSAT A LOHP NHICRNGTNOH SAD AGGEARED TSAT MORHNHP FGOH TSE GEDEITAL OW TSE IFHDNAL SE NHCLOIED A COGY OW NT USNCS NI SERE REGRODFCED ELINE GREGARE TO MEET TSY POD SOLMEI BEHT OKER TSNI PROTEIXFE WRNEJE WOR IOME MNHFTEI AHD TSEH IFDDEHLY IGRAHP TO SNI WEET UNTS AH EQCLAMATNOH OW IFRGRNIE AHD DNIMAY SNI WACE UAI SAPPARD UNTS AHQNETY\n"
     ]
    }
   ],
   "source": [
    "substitution_map= { 'W': ' ', 'C': 'E', 'T': 'T', 'L': 'A', ' ': 'O', 'Z': 'N', 'R': 'I', 'E': 'S', 'A': 'H', 'F': 'R', 'V': 'L', 'Y': 'D', 'H': 'U', 'J': 'M', 'K': 'C', 'S': 'W', 'N': 'F', 'Q': 'G', 'B': 'P', 'M': 'Y', 'G': 'B', 'U': 'V', 'I': 'K', 'P': 'Q', 'D': 'J', 'X': 'X', 'O':'Z'}\n",
    "\n",
    "# Apply the substitution map to decrypt the message\n",
    "decrypted_message = \"\"\n",
    "for letter in message_two:\n",
    "    decrypted_message += substitution_map.get(letter)\n",
    "\n",
    "print(decrypted_message)"
   ]
  },
  {
   "cell_type": "markdown",
   "id": "3fa9c518",
   "metadata": {},
   "source": [
    "---\n",
    "Now that the text looks slightly closer to english, we can use inspection to completely decode the message, along with some trial and error. We continuously apply the substitution map, substituting different letters, until the message reveals itself."
   ]
  },
  {
   "cell_type": "code",
   "execution_count": 30,
   "id": "06f077af",
   "metadata": {},
   "outputs": [
    {
     "name": "stdout",
     "output_type": "stream",
     "text": [
      "SHERLOCK HOLMES PRESERVED HIS CALM PROFESSIONAL MANNER UNTIL OUR VISITOR HAD LEFT US ALTHOUGH IT WAS EASY FOR ME WHO KNEW HIM SO WELL TO SEE THAT HE WAS PROFOUNDLY EXCITED THE MOMENT THAT HILTON CUBITT S BROAD BACK HAD DISAPPEARED THROUGH THE DOOR MY COMRADE RUSHED TO THE TABLE LAID OUT ALL THE SLIPS OF PAPER CONTAINING DANCING MEN IN FRONT OF HIM AND THREW HIMSELF INTO AN INTRICATE AND ELABORATE CALCULATION FOR TWO HOURS I WATCHED HIM AS HE COVERED SHEET AFTER SHEET OF PAPER WITH FIGURES AND LETTERS SO COMPLETELY ABSORBED IN HIS TASK THAT HE HAD EVIDENTLY FORGOTTEN MY PRESENCE SOMETIMES HE WAS MAKING PROGRESS AND WHISTLED AND SANG AT HIS WORK SOMETIMES HE WAS PUZZLED AND WOULD SIT FOR LONG SPELLS WITH A FURROWED BROW AND A VACANT EYE FINALLY HE SPRANG FROM HIS CHAIR WITH A CRY OF SATISFACTION AND WALKED UP AND DOWN THE ROOM RUBBING HIS HANDS TOGETHER THEN HE WROTE A LONG TELEGRAM UPON A CABLE FORM IF MY ANSWER TO THIS IS AS I HOPE YOU WILL HAVE A VERY PRETTY CASE TO ADD TO YOUR COLLECTION WATSON SAID HE I EXPECT THAT WE SHALL BE ABLE TO GO DOWN TO NORFOLK TOMORROW AND TO TAKE OUR FRIEND SOME VERY DEFINITE NEWS AS TO THE SECRET OF HIS ANNOYANCE I CONFESS THAT I WAS FILLED WITH CURIOSITY BUT I WAS AWARE THAT HOLMES LIKED TO MAKE HIS DISCLOSURES AT HIS OWN TIME AND IN HIS OWN WAY SO I WAITED UNTIL IT SHOULD SUIT HIM TO TAKE ME INTO HIS CONFIDENCE BUT THERE WAS A DELAY IN THAT ANSWERING TELEGRAM AND TWO DAYS OF IMPATIENCE FOLLOWED DURING WHICH HOLMES PRICKED UP HIS EARS AT EVERY RING OF THE BELL ON THE EVENING OF THE SECOND THERE CAME A LETTER FROM HILTON CUBITT ALL WAS QUIET WITH HIM SAVE THAT A LONG INSCRIPTION HAD APPEARED THAT MORNING UPON THE PEDESTAL OF THE SUNDIAL HE INCLOSED A COPY OF IT WHICH IS HERE REPRODUCED ELSIE PREPARE TO MEET THY GOD HOLMES BENT OVER THIS GROTESQUE FRIEZE FOR SOME MINUTES AND THEN SUDDENLY SPRANG TO HIS FEET WITH AN EXCLAMATION OF SURPRISE AND DISMAY HIS FACE WAS HAGGARD WITH ANXIETY\n"
     ]
    }
   ],
   "source": [
    "substitution_map = {' ': '',\n",
    "           'A': '',\n",
    "           'B': '',\n",
    "           'C': '',\n",
    "           'D': '',\n",
    "           'E': '',\n",
    "           'F': 'U',\n",
    "           'G': 'P',\n",
    "           'H': 'N',\n",
    "           'I': 'S',\n",
    "           'J': 'Z',\n",
    "           'K': 'V',\n",
    "           'L': '',\n",
    "           'M': '',\n",
    "           'N': 'I',\n",
    "           'O': '',\n",
    "           'P': 'G',\n",
    "           'Q': 'X',\n",
    "           'R': '',\n",
    "           'S': 'H',\n",
    "           'T': '',\n",
    "           'U': 'W',\n",
    "           'V': 'K',\n",
    "           'W': 'F',\n",
    "           'X': 'Q',\n",
    "           'Y': '',\n",
    "           'Z': '',\n",
    "            } \n",
    "solution = \"\"\n",
    "# We go through every letter in the message, check that it's part of the map or has a value,\n",
    "# and then either add the original letter to the solution or the mapped letter\n",
    "for letter in decrypted_message:\n",
    "    if substitution_map.setdefault(letter,'') != '':    \n",
    "        solution += substitution_map.get(letter)\n",
    "    else:\n",
    "        solution += letter\n",
    "\n",
    "print(solution)"
   ]
  },
  {
   "cell_type": "markdown",
   "id": "035f4ad7",
   "metadata": {},
   "source": [
    "---\n",
    "#### Message 2\n",
    "Sherlock Holmes preserved his calm, professional manner until our visitor had left us. Although it was easy for me, who knew him so well, to see that he was profoundly excited the moment that Hilton Cubitt's broad back had disappeared through the door, my comrade rushed to the table, laid out all the slips of paper containing dancing men in front of him, and threw himself into an intricate and elaborate calculation. For two hours, I watched him as he covered sheet after sheet of paper with figures and letters, so completely absorbed in his task that he had evidently forgotten my presence. Sometimes he was making progress and whistled and sang at his work; sometimes he was puzzled and would sit for long spells with a furrowed brow and a vacant eye. Finally, he sprang from his chair with a cry of satisfaction and walked up and down the room, rubbing his hands together. Then he wrote a long telegram upon a cable form: \"If my answer to this is as I hope, you will have a very pretty case to add to your collection, Watson,\" said he. \"I expect that we shall be able to go down to Norfolk tomorrow and to take our friend some very definite news as to the secret of his annoyance.\" I confess that I was filled with curiosity, but I was aware that Holmes liked to make his disclosures at his own time and in his own way, so I waited until it should suit him to take me into his confidence. But there was a delay in that answering telegram, and two days of impatience followed, during which Holmes pricked up his ears at every ring of the bell. On the evening of the second, there came a letter from Hilton Cubitt. All was quiet with him, save that a long inscription had appeared that morning upon the pedestal of the sundial. He enclosed a copy of it, which is here reproduced: \"Elsie, prepare to meet thy God.\" Holmes bent over this grotesque frieze for some minutes, and then suddenly sprang to his feet with an exclamation of surprise and dismay. His face was haggard with anxiety."
   ]
  },
  {
   "cell_type": "markdown",
   "id": "5bf34181",
   "metadata": {},
   "source": [
    "---\n",
    "Finding the correct solution involved 14 manual changes compared to pure frequency analysis. These changes typically involved less frequently encountered letters which means that most of the message was already completed for us before inspection."
   ]
  },
  {
   "cell_type": "markdown",
   "id": "0fc2ad58",
   "metadata": {
    "tags": []
   },
   "source": [
    "## 4 - The Metropolis-Hastings Algorithm - Using Ideas from Statistical Physics "
   ]
  },
  {
   "cell_type": "markdown",
   "id": "7a5f2a17",
   "metadata": {},
   "source": [
    "Statistical physics is a branch of physics that branched and evolved from statistical mechanics used to solve physical problems that deal with large populations, in our case large volume of letters and permutations, and aproximations [6]. Statistical physics can be used to weave together the theory of thermodynaics with the real world data from probabilistic examination to form concrete proofs and disect various problems.\n",
    "\n",
    "Another method of decryption is the Metropolis-Hastings Algorithm, this is commonly used in statistics and data science and principily used as a statistical sampling method [3], this means it takes random samples from probability distribution in order to estimate parameters. We take our initial sample points and generate candidate samples based on a proposed distribution, either achieved through randomness or perturbation of of existing values. The candidate samples are evaluated against the target distribution to decide whether they should be accepted or not, samples with higher liklihoods are more likely to be accepted. Once we have a sufficent number of accepted points we can create an accurate model of the desired distribution. Below shows the creation of the algorithm by creating a substition map function ```substitute(message, substitution_map``` and by creating a way to calculate the scores, ```score(message)``` which will be used to create and use the Metropolis-Hastings algorithm.\n",
    "\n"
   ]
  },
  {
   "cell_type": "code",
   "execution_count": 31,
   "id": "5a8485c7",
   "metadata": {},
   "outputs": [],
   "source": [
    "# Setting up the algorithm\n",
    "import random\n",
    "import numpy as np\n",
    "\n",
    "# substitute() takes in a message and a substitution map and prints the result. \n",
    "# This wraps the manual manipulation phase of the frequency manipulation method into a function.\n",
    "\n",
    "def substitute(message, substitution_map):\n",
    "    solution = \"\"\n",
    "    \n",
    "    for letter in message:\n",
    "        \n",
    "        if substitution_map.setdefault(letter,'') != '':    \n",
    "            solution += substitution_map.get(letter)\n",
    "        else:\n",
    "            solution += letter\n",
    "                \n",
    "    \n",
    "    return solution\n",
    "\n",
    "# Create a histogram (dictionary) that counts the frequency of each word in a list of words.\n",
    "\n",
    "# Adds each word in the list to the dictionary. If the word isn't in the dictionary,\n",
    "# it sets taht word's value to 0 then adds 1. If the word already exists, it adds 1.  \n",
    "def histogram(words):\n",
    "    hist = {}\n",
    "    for word in words:\n",
    "        hist[word] = hist.setdefault(word,0) + 1\n",
    "    \n",
    "    return hist\n",
    "\n",
    "# Use the same text from Moby-Dick but this time record frequency of individual characters\n",
    "char_list = [char for char in moby]\n",
    "\n",
    "# Maps characters to their frequencies\n",
    "char_hist = histogram(char_list) \n",
    "\n",
    "# Same but for bigrams\n",
    "bigram_list = [moby[i] + moby[i+1] for i in range(len(moby)-1)]\n",
    "\n",
    "bigram_hist = histogram(bigram_list)\n",
    "\n",
    "# Probability that character i is followed by character j (dictionary)(based on sample text)\n",
    "p_ij = {}\n",
    "for ij, freq in bigram_hist.items():\n",
    "    p_ij[ij] = (freq + 1)/char_hist[ij[0]] # char_hist[ij[0]] represents the frequency of i"
   ]
  },
  {
   "cell_type": "code",
   "execution_count": 32,
   "id": "47f3a4cf",
   "metadata": {},
   "outputs": [
    {
     "name": "stdout",
     "output_type": "stream",
     "text": [
      "-8.702093606711546\n",
      "-16.811919882730024\n"
     ]
    }
   ],
   "source": [
    "# The score function calculates how close a word is to the english language (the higher the score the closer it is) \n",
    "# based on probabilities calculated before\n",
    "\n",
    "def score(message):\n",
    "    score = 0\n",
    "    for i in range(len(message)-1):\n",
    "        bigram = message[i:i+2]\n",
    "\n",
    "        # If bigram not in p_ij, add it with frequency 0\n",
    "        p_ij.setdefault(bigram,1/char_hist[ij[0]])\n",
    "        if bigram in p_ij:\n",
    "            score += np.log(p_ij[bigram])\n",
    "\n",
    "    return score\n",
    "\n",
    "# For example:\n",
    "print(score('HELLO'))\n",
    "print(score('HELLX'))"
   ]
  },
  {
   "cell_type": "markdown",
   "id": "b90f0c22",
   "metadata": {},
   "source": [
    "The cell bellow shows the creation of the Metropolis-Hastings algorithm, ```met```. Note that the use of the variable T is used for extention 8 and is not relevent to this section. The code bellow creates the random variables a and b which generate a random integer between 1 and 26 that corrosponds to a letter in the alphabet. Then the letter corrosponding to a is mapped to b, simulating the switching of letters. From this we can generate a score based on the ```best.split``` function and compare the score before the swap with after the swap with the highest score being accepted."
   ]
  },
  {
   "cell_type": "code",
   "execution_count": 33,
   "id": "e28038dc",
   "metadata": {},
   "outputs": [],
   "source": [
    "def met(message, steps, T):\n",
    "    best = message    \n",
    "    \n",
    "    for i in range(steps + 1):\n",
    "        # For each step, choose two random numbers between 0 and 26 \n",
    "        # to represent the letters of the alphabet and space.\n",
    "\n",
    "        a = random.randint(0,26)\n",
    "        b = random.randint(0,26)\n",
    "        \n",
    "        # Then use the same substitution map as earlier to swap the roles of these characters.\n",
    "                \n",
    "        substitution_map = {} \n",
    "        substitution_map[alphabet[a]] = alphabet[b]\n",
    "        substitution_map[alphabet[b]] = alphabet[a]\n",
    "\n",
    "        alternative = substitute(best, substitution_map)\n",
    "        \n",
    "        # Then we calculate the scores of the message previously chosen as 'best' and\n",
    "        # our newly found 'alternative' message obtained by switching roles of two characters.\n",
    "        best_score = score(best)\n",
    "        alternative_score = score(alternative)\n",
    "        \n",
    "        # If the alternative message scores higher, we want that to be the new 'best' message \n",
    "        if alternative_score > best_score:\n",
    "            best = alternative            \n",
    "        \n",
    "        # If the alternative message scores less than the current best, replace the best message\n",
    "        # with the alternative with given probablility (only do this if T doesn't equal 0 so the\n",
    "        # calculation is defined).\n",
    "        elif T != 0:\n",
    "            if random.random() < np.exp((alternative_score - best_score)/T):\n",
    "                best = alternative                \n",
    "        \n",
    "        # Decrease T by a constant value at each step (the reason for this will be discussed later). \n",
    "        # (Only when T is not 0).\n",
    "        if T != 0:\n",
    "            T -= T/(steps+1)\n",
    "    \n",
    "    return best"
   ]
  },
  {
   "cell_type": "code",
   "execution_count": 34,
   "id": "16f93499",
   "metadata": {},
   "outputs": [
    {
     "name": "stdout",
     "output_type": "stream",
     "text": [
      "WORKING WITH THEIR EGYPTIAN COLLEAGUES THE DUTCH CONSULTANTS WERE RUNNING NUMBERS BOSKALISS ROLE WAS BASICALLY TO DO THE CALCULATIONS THE SUMS BERDOWSKI SAID SO WHEN THE STERN CAME FREE ON MONDAY MORNING WE CALCULATED THAT WE SHOULD LET TONNES OF WATER BALLAST IN AT THE REAR OF THE VESSEL TO PUSH THE STERN DOWN AND LIFT THE BOW\n"
     ]
    }
   ],
   "source": [
    "# Set a seed value for reproducible results here so we can demonstrate subsequent manual manipulation.\n",
    "random.seed(10)\n",
    "\n",
    "message_four = ciphertexts[4]\n",
    "decoded = met(message_four,40000,3)\n",
    "print(decoded)"
   ]
  },
  {
   "cell_type": "markdown",
   "id": "876381a3",
   "metadata": {},
   "source": [
    "---\n",
    "#### Message 4\n",
    "Working with their Egyptian colleagues, the Dutch consultants were running numbers. Boskalis's role was basically to do the calculations. \"The sums,\" Berdowski said, \"So when the stern came free on Monday morning, we calculated that we should let tonnes of water ballast in at the rear of the vessel to push the stern down and lift the bow.\".\n",
    "\n",
    "---"
   ]
  },
  {
   "cell_type": "markdown",
   "id": "ae549966",
   "metadata": {},
   "source": [
    "The purpose of this algorithm is to make a more powerful and more effecient version of frequency analysis. As seen in the previous section a lot of frequency analysis is based on human intervention and checking whether words have been made, where as, with the Hastings-Metropolis algorithm do not need to intervene. This is due to the algorithm eliminating the giberish, the lowest scores, and only keeping the words or near words, the higher scores. Furthermore, the use of the score function makes the algorithm more efficient as it is easier and faster to run an equation than substituting maps every time, and we can use the algorithm for every message as it remains the same whereas we must change the function for frequency analysis to work. "
   ]
  },
  {
   "cell_type": "markdown",
   "id": "e58e7cbe-ef66-4b0d-b6d6-10ee91a0c3a7",
   "metadata": {},
   "source": [
    "## 5 - Modifications to the Metropolis Function"
   ]
  },
  {
   "cell_type": "markdown",
   "id": "b2acc79b-bd4b-4ec9-809e-dd3b767267b9",
   "metadata": {},
   "source": [
    "When running our Metropolis algorithm on one of the messages, while we didn't get an accurate decryption, we noticed that the the result we did get contained a few words that looked like they were of french origin:"
   ]
  },
  {
   "cell_type": "code",
   "execution_count": 35,
   "id": "9e679217-1bd8-4afe-9bdd-0067f03e4223",
   "metadata": {},
   "outputs": [
    {
     "name": "stdout",
     "output_type": "stream",
     "text": [
      "VE ME RENCORMAIS ED WARYOIS VE NAFAIS WTUS BUE CE HOURDS REFEITS CUN INSDAND TE DEMWS CENDENCRE TES HRABUEMENDS ORGANIBUES CES POISERIES COUFRIR TES LEUK WOUR YIKER TE JATEICOSHOWE CE TOPSHURIDE CE GO DER GR HE UNE TUEUR MOMENDAN E CE HONSHIENHE TE SOMMEIT OU EDAIEND WTONG S TES MEUPTES TA HZAMPRE TE DOUD COND VE NEDAIS BUUNE WEDIDE WARDIE ED A TINSENSIPITIDE CUBUET VE REDOURNAIS FIDE MUNIR\n"
     ]
    }
   ],
   "source": [
    "message_nine = ciphertexts[9]\n",
    "decoded = met(message_nine,40000,3)\n",
    "print(decoded)"
   ]
  },
  {
   "cell_type": "markdown",
   "id": "fe2ceabb-59ee-418a-8d47-130d90a3dbb4",
   "metadata": {},
   "source": [
    "In order to solve this problem, we figured that it'd be best to rebuild the Metropolis function but with a french sample text rather than an english text. However, this came with a few unique complications - namely that none of us know french fluently so it'd take a lot of effort to prove that what we have is actually a valid solution. The most useful modification that we made was the addition of a spell checker that stores solutions where every word (or the majority) is a member of the french dicitionary. This also came in very handy for the harder messages in english as it helped us store valid solutions when the algorithm struggled to converged to a unique solution (see the **Analysis of the Simulated Annealing Procedure** section). "
   ]
  },
  {
   "cell_type": "code",
   "execution_count": 36,
   "id": "af918036-8121-40d7-918f-b7975ebb0725",
   "metadata": {},
   "outputs": [],
   "source": [
    "# Import the french novel, 'The Hunchback of Notre Dame'\n",
    "url='https://www.gutenberg.org/files/19657/19657-8.txt'\n",
    "notre = requests.get(url).text\n",
    "\n",
    "with open(os.path.join(sys.path[0],'notre.txt'),'w',errors='ignore') as f:\n",
    "    f.write(notre) # write to file\n",
    "\n",
    "with open(os.path.join(sys.path[0],'notre.txt'),'r',errors='ignore') as f:\n",
    "    notre = f.read() # read from file"
   ]
  },
  {
   "cell_type": "markdown",
   "id": "261bbfca-e784-4948-ae57-0df7c27ec820",
   "metadata": {},
   "source": [
    "The file cleaning process is more complex in this case as we have to consider all of the accented characters (such as 'È', 'É', 'Ê', 'Ë' etc)."
   ]
  },
  {
   "cell_type": "code",
   "execution_count": 37,
   "id": "5451ebe1-47f7-4cba-b56b-238c88667172",
   "metadata": {},
   "outputs": [
    {
     "name": "stdout",
     "output_type": "stream",
     "text": [
      "dict_keys(['I', 'L', ' ', 'Y', 'A', 'U', 'J', 'O', 'R', 'D', \"'\", 'H', 'T', 'S', 'C', 'E', 'N', 'Q', '-', 'X', 'M', 'F', '\\n', 'P', 'É', 'V', 'È', 'B', 'À', 'G', ',', '.', '6', '1', '4', '8', '2', 'Â', '_', 'Ê', 'Z', 'Û', 'Ô', '(', '[', ']', ')', 'Ç', '3', ';', '0', 'Ù', '5', '9', 'Î', ':', '7', '?', '«', '»', 'Ï', '!', 'Ë', 'K', 'Ñ', 'Á', 'Æ', 'W'])\n"
     ]
    }
   ],
   "source": [
    "# First remove preamble and postamble then make all upper case as before\n",
    "\n",
    "notre = notre.upper()[13204:804588]\n",
    "\n",
    "all_chars = dict()\n",
    "\n",
    "for char in notre:\n",
    "    all_chars.setdefault(char) \n",
    "\n",
    "# Print all characters to see what accents we have to deal with\n",
    "print(all_chars.keys())"
   ]
  },
  {
   "cell_type": "code",
   "execution_count": 38,
   "id": "e9b339d8-a7fa-4cd5-b9e9-7ef24349fbc4",
   "metadata": {},
   "outputs": [],
   "source": [
    "# Map french characters to english equivalents\n",
    "french_mapping = {'A': ['À','Â','Á'],\n",
    "                 'E': ['È','É','Ê','Ë'],\n",
    "                 'U': ['Û','Ù'],\n",
    "                 'C': ['Ç'],\n",
    "                 'O': ['Ô'],\n",
    "                 'I': ['Î','Ï'],\n",
    "                 'N': ['Ñ'],\n",
    "                 'AE': ['Æ']}"
   ]
  },
  {
   "cell_type": "markdown",
   "id": "e77a5700-5e8e-4fb4-beb4-971a68459f26",
   "metadata": {},
   "source": [
    "Since this mapping maps multiple accented characters to one unaccented character (rather than a one to one relationship), we need to create a more advanced `substitution()` function."
   ]
  },
  {
   "cell_type": "code",
   "execution_count": 39,
   "id": "25eb5f17-87dc-4894-821f-f36f8b9d4552",
   "metadata": {},
   "outputs": [],
   "source": [
    "def advanced_map(message, mapping):\n",
    "    # Convert message to a list of characters\n",
    "    decryption = list(message)\n",
    "    \n",
    "    # Iterate through items in the mapping dictionary\n",
    "    for unaccented, accented in mapping.items():\n",
    "        i = 0\n",
    "        \n",
    "        # Go through each character in the novel and check to see if it is accented.\n",
    "        # If so, replace it with the approproate unaccented character.\n",
    "        for char in message:\n",
    "            for letter in accented:   \n",
    "                if char == letter:\n",
    "                    decryption[i] = unaccented\n",
    "            i += 1    \n",
    "    \n",
    "    return ''.join(decryption)\n",
    "\n",
    "notre = advanced_map(notre, french_mapping)"
   ]
  },
  {
   "cell_type": "code",
   "execution_count": 40,
   "id": "4a1bd430-5467-487e-b5fa-220d70b0a876",
   "metadata": {},
   "outputs": [
    {
     "name": "stdout",
     "output_type": "stream",
     "text": [
      "IL Y A AUJOURDHUI TROIS CENT QUARANTEHUIT ANS SIX MOIS ET DIXNEUF JOURS QUE LES PARISIENS SEVEILLERENT AU BRUIT DE TOUTES LES CLOCHES SONNANT A GRANDE VOLEE DANS LA TRIPLE ENCEINTE DE LA CITE DE LUNIVERSITE ET DE LA VILLE CE NEST CEPENDANT PAS UN JOUR DONT LHISTOIRE AIT GARDE SOUVENIR QUE LE JANVIER RIEN DE NOTABLE DANS LEVENEMENT QUI METTAIT AINSI EN BRANLE DES LE MATIN LES CLOCHES ET LES BOURGEOIS DE PARIS CE NETAIT NI UN ASSAUT DE PICARDS OU DE BOURGUIGNONS NI UNE CHASSE MENEE EN PROCESSION N\n"
     ]
    }
   ],
   "source": [
    "# Remove text file formatting characters as before\n",
    "redundant = []\n",
    "\n",
    "for char in notre:\n",
    "    all_chars.setdefault(char) \n",
    "\n",
    "for char in all_chars.keys():\n",
    "    if not char in alphabet:\n",
    "        redundant.append(char)\n",
    "\n",
    "notre = notre.replace('\\n', ' ')\n",
    "\n",
    "for symbol in redundant:\n",
    "    notre = notre.replace(symbol, '')\n",
    "\n",
    "notre = notre.replace('  ', ' ')\n",
    "\n",
    "print(notre[:500])"
   ]
  },
  {
   "cell_type": "code",
   "execution_count": 41,
   "id": "4661f2c2-f0d6-4afb-9255-c9c89156a049",
   "metadata": {},
   "outputs": [],
   "source": [
    "# Record frequency of individual characters\n",
    "fchar_list = [char for char in notre]\n",
    "\n",
    "# Maps characters to their frequencies\n",
    "fchar_hist = histogram(fchar_list) "
   ]
  },
  {
   "cell_type": "code",
   "execution_count": 42,
   "id": "faa4fbf5-fd69-4eb5-a420-2f06a33cb689",
   "metadata": {},
   "outputs": [
    {
     "name": "stdout",
     "output_type": "stream",
     "text": [
      "-16.804496286384378\n",
      "-14.748105571305839\n"
     ]
    }
   ],
   "source": [
    "# Same but for bigrams\n",
    "\n",
    "fbigram_list = [notre[i] + notre[i+1] for i in range(len(notre)-1)]\n",
    "\n",
    "fbigram_hist = histogram(fbigram_list)\n",
    "\n",
    "# Probability that character i is followed by character j in french\n",
    "fp_ij = {}\n",
    "for ij, freq in fbigram_hist.items():\n",
    "    fp_ij[ij] = (freq + 1)/fchar_hist[ij[0]] # char_hist[ij[0]] represents the frequency of i\n",
    "\n",
    "\n",
    "# Score function but for french \n",
    "def fscore(message):\n",
    "    score = 0\n",
    "    for i in range(len(message)-1):\n",
    "        bigram = message[i:i+2]\n",
    "\n",
    "        # If bigram not in p_ij, add it with frequency 0\n",
    "        fp_ij.setdefault(bigram,1/char_hist[ij[0]])\n",
    "        if bigram in fp_ij:\n",
    "            score += np.log(fp_ij[bigram])\n",
    "\n",
    "    return score\n",
    "\n",
    "# English versus french score functions for a french word\n",
    "print(score('BONJOUR'))\n",
    "print(fscore('BONJOUR'))"
   ]
  },
  {
   "cell_type": "markdown",
   "id": "a4339766-9cbc-4b36-bae2-cc3c33a9f1aa",
   "metadata": {},
   "source": [
    "**Now for the spell checker!**"
   ]
  },
  {
   "cell_type": "code",
   "execution_count": 6,
   "id": "2471e8b8-cb54-4039-b3dd-1d1c729833f9",
   "metadata": {},
   "outputs": [
    {
     "ename": "FileNotFoundError",
     "evalue": "[Errno 2] No such file or directory: '/Users/ezranwobodo/Documents/Mathematical_Programming/francais.txt'",
     "output_type": "error",
     "traceback": [
      "\u001b[0;31m---------------------------------------------------------------------------\u001b[0m",
      "\u001b[0;31mFileNotFoundError\u001b[0m                         Traceback (most recent call last)",
      "Input \u001b[0;32mIn [6]\u001b[0m, in \u001b[0;36m<cell line: 2>\u001b[0;34m()\u001b[0m\n\u001b[1;32m      1\u001b[0m \u001b[38;5;66;03m# Import french dictionary for spell checking (make sure it's in the same working directory as this notebook)\u001b[39;00m\n\u001b[0;32m----> 2\u001b[0m \u001b[38;5;28;01mwith\u001b[39;00m \u001b[38;5;28;43mopen\u001b[39;49m\u001b[43m(\u001b[49m\u001b[43mos\u001b[49m\u001b[38;5;241;43m.\u001b[39;49m\u001b[43mpath\u001b[49m\u001b[38;5;241;43m.\u001b[39;49m\u001b[43mjoin\u001b[49m\u001b[43m(\u001b[49m\u001b[43msys\u001b[49m\u001b[38;5;241;43m.\u001b[39;49m\u001b[43mpath\u001b[49m\u001b[43m[\u001b[49m\u001b[38;5;241;43m0\u001b[39;49m\u001b[43m]\u001b[49m\u001b[43m,\u001b[49m\u001b[38;5;124;43m'\u001b[39;49m\u001b[38;5;124;43mfrancais.txt\u001b[39;49m\u001b[38;5;124;43m'\u001b[39;49m\u001b[43m)\u001b[49m\u001b[43m,\u001b[49m\u001b[38;5;124;43m'\u001b[39;49m\u001b[38;5;124;43mr\u001b[39;49m\u001b[38;5;124;43m'\u001b[39;49m\u001b[43m,\u001b[49m\u001b[43merrors\u001b[49m\u001b[38;5;241;43m=\u001b[39;49m\u001b[38;5;124;43m'\u001b[39;49m\u001b[38;5;124;43mignore\u001b[39;49m\u001b[38;5;124;43m'\u001b[39;49m\u001b[43m)\u001b[49m \u001b[38;5;28;01mas\u001b[39;00m f:\n\u001b[1;32m      3\u001b[0m     french \u001b[38;5;241m=\u001b[39m f\u001b[38;5;241m.\u001b[39mread()\n",
      "\u001b[0;31mFileNotFoundError\u001b[0m: [Errno 2] No such file or directory: '/Users/ezranwobodo/Documents/Mathematical_Programming/francais.txt'"
     ]
    }
   ],
   "source": [
    "# Import french dictionary for spell checking \n",
    "# (make sure francais.txt is in the same working directory as this notebook)\n",
    "with open(os.path.join(sys.path[0],'francais.txt'),'r',errors='ignore') as f:\n",
    "    french = f.read() # read from file"
   ]
  },
  {
   "cell_type": "code",
   "execution_count": 20,
   "id": "f71df4be-f444-4175-8c4d-d71c4f5420fd",
   "metadata": {},
   "outputs": [
    {
     "name": "stdout",
     "output_type": "stream",
     "text": [
      " A AB ABAISSA ABAISSAI ABAISSAIENT ABAISSAIS ABAISSAIT ABAISSANT ABAISSAS ABAISSASSE ABAISSASSENT AB\n"
     ]
    }
   ],
   "source": [
    "# Some basic processing of the file\n",
    "\n",
    "french = french.replace('\\n',' ')\n",
    "french = french.replace(\"'\",'')\n",
    "french = french.upper()\n",
    "print(french[:100])\n",
    "\n",
    "# Then store each french word in a set for efficient retrieval\n",
    "french = set(french.split())"
   ]
  },
  {
   "cell_type": "code",
   "execution_count": 21,
   "id": "81e62ca6-fcd7-4d4d-b1d0-033889dc0bb2",
   "metadata": {},
   "outputs": [],
   "source": [
    "# 'fmet' for 'french Metropolis'\n",
    "def fmet(message, steps, T, spell_check=True):\n",
    "    best = message    \n",
    "    \n",
    "    # Store all 'valid' sentences in a set\n",
    "    valid = set()    \n",
    "    \n",
    "    for i in range(steps + 1):\n",
    "        \n",
    "        if spell_check:\n",
    "            # We could input any other language dictionary here if we wanted to add language\n",
    "            # as a parameter to our function.\n",
    "            spell_check = french\n",
    "            \n",
    "            # Count number of valid words in the current 'best' message\n",
    "            counter = 0\n",
    "            for word in best.split():\n",
    "                if word in spell_check:\n",
    "                    counter += 1\n",
    "            \n",
    "            # If a large enough proportion of words in the message are 'valid', we store the message.        \n",
    "            if counter >= len(best.split()) *0.81:\n",
    "                valid.add(best)  \n",
    "        \n",
    "        # For each step, choose two random numbers between 0 and 26 \n",
    "        # to represent the letters of the alphabet and space.\n",
    "\n",
    "        a = random.randint(0,26)\n",
    "        b = random.randint(0,26)\n",
    "        \n",
    "        # Then use the same substitution map as earlier to swap the roles of these characters.\n",
    "                \n",
    "        substitution_map = {} \n",
    "        substitution_map[alphabet[a]] = alphabet[b]\n",
    "        substitution_map[alphabet[b]] = alphabet[a]\n",
    "\n",
    "        alternative = substitute(best, substitution_map)\n",
    "        \n",
    "        # Then we calculate the scores of the message previously chosen as 'best' and\n",
    "        # our newly found 'alternative' message obtained by switching roles of two characters.\n",
    "        best_score = fscore(best)\n",
    "        alternative_score = fscore(alternative)\n",
    "        \n",
    "        # If the alternative message scores higher, we want that to be the new 'best' message. \n",
    "        if alternative_score > best_score:\n",
    "            best = alternative            \n",
    "        \n",
    "        # If the alternative message scores less than the current best, replace the best message\n",
    "        # with the alternative with given probablility (only do this if T doesn't equal 0 so the\n",
    "        # calculation is defined).\n",
    "        elif T != 0:\n",
    "            if random.random() < np.exp((alternative_score - best_score)/T):\n",
    "                best = alternative                \n",
    "        \n",
    "        # Decrease T by a constant value at each step (the reason for this will be discussed later). \n",
    "        # (Only when T is not 0).\n",
    "        if T != 0:\n",
    "            T -= T/(steps+1)\n",
    "        \n",
    "        # We will also equip the algorithm with a progress checker to see what the current 'best'\n",
    "        # message is every 10000 steps.\n",
    "        if i % 10000 == 0:\n",
    "            print('Step {}:'.format(i),best,'\\n')\n",
    "\n",
    "    \n",
    "    \n",
    "    \n",
    "    # Print all valid senetences at the end.\n",
    "    print('Valid sentences:')\n",
    "    for sentence in valid:\n",
    "        print(sentence,'\\n')    \n",
    "    return best\n"
   ]
  },
  {
   "cell_type": "code",
   "execution_count": 22,
   "id": "663b2a68-8c4e-433b-a27e-daac027b0e73",
   "metadata": {},
   "outputs": [
    {
     "name": "stdout",
     "output_type": "stream",
     "text": [
      "Step 0: WDYRDYLDQCSLR KTYDPYZ LXSKTYWDYQ U KTYZOITYGIDYCDYJSILPTYLDUDKOTYCIQYKQTP QPYODYPDRZTYCDQPDQCLDYODTYJL GIDRDQPTYSLH QKGIDTYCDTYMSKTDLKDTYCSIULKLYODTYADINYZSILYXKNDLYODYB ODKCSTJSZDYCDYOSMTJILKPDYCDYHSYPDLYHLYJDYIQDYOIDILYRSRDQP QYDYCDYJSQTJKDQJDYODYTSRRDKOYSIYDP KDQPYZOSQHYTYODTYRDIMODTYO YJF RMLDYODYPSIPYCSQPYWDYQDP KTYGIIQDYZDPKPDYZ LPKDYDPY YOKQTDQTKMKOKPDYCIGIDOYWDYLDPSILQ KTYUKPDYRIQKL \n",
      "\n",
      "Step 10000: JE ME RENDORMAIT ES PARFOIT JE NAVAIT PLUT QUE DE COURST REVEILT DUN INTSANS LE SEMPT DENSENDRE LET CRAQUEMENST ORGANIQUET DET BOITERIET DOUVRIR LET KEUX POUR FIXER LE YALEIDOTCOPE DE LOBTCURISE DE GO SER GR CE UNE LUEUR MOMENSAN E DE CONTCIENCE LE TOMMEIL OU ESAIENS PLONG T LET MEUBLET LA CHAMBRE LE SOUS DONS JE NESAIT QUUNE PESISE PARSIE ES A LINTENTIBILISE DUQUEL JE RESOURNAIT VISE MUNIR \n",
      "\n",
      "Step 20000: JE ME RENDORMAIS ET PARWOIS JE NAVAIS PLUS QUE DE COURTS REVEILS DUN INSTANT LE TEMPS DENTENDRE LES CRAQUEMENTS ORGANIQUES DES BOISERIES DOUVRIR LES YEUX POUR WIXER LE FALEIDOSCOPE DE LOBSCURITE DE GO TER GR CE UNE LUEUR MOMENTAN E DE CONSCIENCE LE SOMMEIL OU ETAIENT PLONG S LES MEUBLES LA CHAMBRE LE TOUT DONT JE NETAIS QUUNE PETITE PARTIE ET A LINSENSIBILITE DUQUEL JE RETOURNAIS VITE MUNIR \n",
      "\n",
      "Step 30000: JE ME RENDORMAIS ET PARZOIS JE NAVAIS PLUS QUE DE COURTS REVEILS DUN INSTANT LE TEMPS DENTENDRE LES CRAQUEMENTS ORGANIQUES DES BOISERIES DOUVRIR LES YEUX POUR ZIXER LE FALEIDOSCOPE DE LOBSCURITE DE GO TER GR CE UNE LUEUR MOMENTAN E DE CONSCIENCE LE SOMMEIL OU ETAIENT PLONG S LES MEUBLES LA CHAMBRE LE TOUT DONT JE NETAIS QUUNE PETITE PARTIE ET A LINSENSIBILITE DUQUEL JE RETOURNAIS VITE MUNIR \n",
      "\n",
      "Step 40000: JE ME RENDORMAIS ET PARFOIS JE NAVAIS PLUS QUE DE COURTS REVEILS DUN INSTANT LE TEMPS DENTENDRE LES CRAQUEMENTS ORGANIQUES DES BOISERIES DOUVRIR LES YEUX POUR FIXER LE ZALEIDOSCOPE DE LOBSCURITE DE GO TER GR CE UNE LUEUR MOMENTAN E DE CONSCIENCE LE SOMMEIL OU ETAIENT PLONG S LES MEUBLES LA CHAMBRE LE TOUT DONT JE NETAIS QUUNE PETITE PARTIE ET A LINSENSIBILITE DUQUEL JE RETOURNAIS VITE MUNIR \n",
      "\n",
      "Step 50000: JE ME RENDORMAIS ET PARGOIS JE NAVAIS PLUS QUE DE COURTS REVEILS DUN INSTANT LE TEMPS DENTENDRE LES CRAQUEMENTS ORFANIQUES DES BOISERIES DOUVRIR LES YEUX POUR GIXER LE KALEIDOSCOPE DE LOBSCURITE DE FO TER FR CE UNE LUEUR MOMENTAN E DE CONSCIENCE LE SOMMEIL OU ETAIENT PLONF S LES MEUBLES LA CHAMBRE LE TOUT DONT JE NETAIS QUUNE PETITE PARTIE ET A LINSENSIBILITE DUQUEL JE RETOURNAIS VITE MUNIR \n",
      "\n",
      "Valid sentences:\n",
      "JE ME RENDORMAIS ET PARFOIS JE NAVAIS PLUS QUE DE COURTS REVEILS DUN INSTANT LE TEMPS DENTENDRE LES CRAQUEMENTS ORGANIQUES DES BOISERIES DOUVRIR LES YEUX POUR FIXER LE KALEIDOSCOPE DE LOBSCURITE DE GO TER GR CE UNE LUEUR MOMENTAN E DE CONSCIENCE LE SOMMEIL OU ETAIENT PLONG S LES MEUBLES LA CHAMBRE LE TOUT DONT JE NETAIS QUUNE PETITE PARTIE ET A LINSENSIBILITE DUQUEL JE RETOURNAIS VITE MUNIR \n",
      "\n",
      "JE ME RENDORMAIS ET PARFOIS JE NAVAIS PLUS QUE DE COURTS REVEILS DUN INSTANT LE TEMPS DENTENDRE LES CRAQUEMENTS ORGANIQUES DES BOISERIES DOUVRIR LES YEUX POUR FIXER LE ZALEIDOSCOPE DE LOBSCURITE DE GO TER GR CE UNE LUEUR MOMENTAN E DE CONSCIENCE LE SOMMEIL OU ETAIENT PLONG S LES MEUBLES LA CHAMBRE LE TOUT DONT JE NETAIS QUUNE PETITE PARTIE ET A LINSENSIBILITE DUQUEL JE RETOURNAIS VITE MUNIR \n",
      "\n"
     ]
    }
   ],
   "source": [
    "message_nine = ciphertexts[9]\n",
    "decoded = fmet(message_nine,50000,2)"
   ]
  },
  {
   "cell_type": "markdown",
   "id": "96ca7d15-39dc-4fa1-90b5-b10520f38806",
   "metadata": {},
   "source": [
    "Now we only have to check a very small sample of messages to see which is the correct one. The processing of checking manually and applying substitution maps will be the same as before but with a french dictionary and google translate on hand."
   ]
  },
  {
   "cell_type": "markdown",
   "id": "78f2ed85-9b76-4a2b-bd1c-f8242660f1d0",
   "metadata": {},
   "source": [
    "JE ME RENDORMAIS ET PARFOIS JE NAVAIS PLUS QUE DE COURTS REVEILS DUN INSTANT LE TEMPS DENTENDRE LES CRAQUEMENTS ORGANIQUES DES BOISERIES DOUVRIR LES YEUX POUR FIXER LE KALEIDOSCOPE DE LOBSCURITE DE GO TER GR CE UNE LUEUR MOMENTAN E DE CONSCIENCE LE SOMMEIL OU ETAIENT PLONG S LES MEUBLES LA CHAMBRE LE TOUT DONT JE NETAIS QUUNE PETITE PARTIE ET A LINSENSIBILITE DUQUEL JE RETOURNAIS VITE MUNIR"
   ]
  },
  {
   "cell_type": "markdown",
   "id": "d193dc81-9611-4efc-b5d0-1a5730b8f0a7",
   "metadata": {},
   "source": [
    "---\n",
    "#### Message 9\n",
    "In french:\n",
    "\n",
    "Je me rendormais et parfois je n'avais plus que de courts réveils d'un instant, le temps d'entendre les craquements organiques des boiseries, d'ouvrir les yeux pour fixer le kaleidoscope de l'obscurité, de goûter grâce à une lueur momentanée de conscience, le sommeil où étaient plongés les meubles, la chambre, le tout dont je n'étais qu'une petite partie et à l'insensibilité duquel je retournais vite m'unir.\n",
    "\n",
    "In english:\n",
    "\n",
    "I would fall back asleep and sometimes I would only have short awakenings for an instant, the time to hear the organic creaking of the wood panels, to open my eyes to fix on the kaleidoscope of darkness, to taste thanks to a fleeting gleam of consciousness, the sleep where the furniture was plunged, the room, the whole of which I was only a small part and to the insensitivity of which I quickly returned to unite myself.\n",
    "\n",
    "---"
   ]
  },
  {
   "cell_type": "markdown",
   "id": "82db27d5",
   "metadata": {},
   "source": [
    "## 6 - Number of Manual Adjustments for the Frequency Analysis Procedure"
   ]
  },
  {
   "cell_type": "markdown",
   "id": "284c3e63",
   "metadata": {},
   "source": [
    "The probabilistic model used in steps 3-4 is based on the assumption that the likelihood of a character appearing in a text, is similar to the frequency of that character appearing in the sample text. This assumption is used to create a mapping between the characters in the coded message and their corresponding characters in English based on their frequency ranks. In step 4, the model is refined through a manual adjustment process, where we use trial and error to modify the message until we obtain a readable message. The success of this approach depends on the accuracy of the probabilistic model.\n",
    "\n",
    "The amount of manual adjustment needed can vary depending on the length of the message, the language used, and the specific cipher used. In general, the longer the message, the more data there is to work with and therefore this approach would be more accurate. So for longer messages, less manual adjustement may be needed to reach the correct mapping. For shorter messages, the frequency analysis approach can be less reliable as there is less data to work with and therefore, the frequency distribution of characters is less likely to reflect the frequency distribution of characters in the language. This additional difficulty means more manual adjustment is needed to obtain the solution for a shorter message."
   ]
  },
  {
   "cell_type": "code",
   "execution_count": 23,
   "id": "0677c24a",
   "metadata": {},
   "outputs": [
    {
     "name": "stdout",
     "output_type": "stream",
     "text": [
      "Z:23\n",
      "L:15\n",
      "C:14\n",
      "I:11\n",
      "E:8\n",
      " :6\n",
      "Q:5\n",
      "H:5\n",
      "B:5\n",
      "U:4\n",
      "D:4\n",
      "X:3\n",
      "S:3\n",
      "T:3\n",
      "M:3\n",
      "P:3\n",
      "A:3\n",
      "W:2\n",
      "F:2\n",
      "V:2\n",
      "O:2\n",
      "K:2\n",
      "Y:1\n",
      "A GEDU PNIOPE MIRYEU CAS TAYER OLL ARW DEKFSEW TI EAT OT CAS TNIFBNT NICEGED TNAT OTS AHHETOTE MOBNT VE STOMFLATEW VU A HOREAHHLE\n",
      "A VERY CHOICE MONKEY WAS TAKEN ILL AND REFUSED TO EAT IT WAS THOUGHT HOWEVER THAT ITS APPETITE MIGHT BE STIMULATED BY A PINEAPPLE\n"
     ]
    }
   ],
   "source": [
    "# We continue using the Moby Dick as the sample text\n",
    "\n",
    "message_five = ciphertexts[5]\n",
    "\n",
    "# Finds and lists frequency of each letter\n",
    "letter_counts=Counter(message_five)\n",
    "for letter,count in letter_counts.most_common():\n",
    "    print(f\"{letter}:{count}\")\n",
    "    \n",
    "# Pairs letters based on frequency\n",
    "substitution_map= { 'Z': ' ', 'L': 'E', 'C': 'T', 'I': 'A', 'E': 'O', ' ': 'N', 'Q': 'I', 'H': 'S', 'B': 'H', 'U': 'R', 'D': 'L', 'X': 'D', 'S': 'U', 'T': 'M', 'M': 'C', 'P': 'W', 'A': 'F', 'W': 'G', 'F': 'P', 'V': 'Y', 'O': 'B', 'K': 'V', 'Y': 'K'}\n",
    "first = substitute(message_five,substitution_map)\n",
    "print(first)\n",
    "\n",
    "# Adjust mappings until correct message is reached\n",
    "substitution_map= { 'G': 'V', 'D': 'R', 'U': 'Y', 'P': 'C', 'N': 'H', 'I': 'O', 'O': 'I', 'Y': 'K', 'C': 'W', 'R': 'N', 'W': 'D', 'K': 'F', 'F': 'U', 'B': 'G', 'H': 'P', 'V': 'B'}\n",
    "print(substitute(first,substitution_map))"
   ]
  },
  {
   "cell_type": "markdown",
   "id": "3e3392ce-278e-4c2a-9fae-917e5fa7c129",
   "metadata": {},
   "source": [
    "16/23 mappings required adjustment for message five"
   ]
  },
  {
   "cell_type": "markdown",
   "id": "76dbbe78-6c21-4f87-9f3c-4b9a4629b3dd",
   "metadata": {},
   "source": [
    "---\n",
    "#### Message 5\n",
    "\n",
    "A very choice monkey became sick and refused to eat. However, it was thought that its appetite might be stimulated by a pineapple.\n",
    "\n",
    "---"
   ]
  },
  {
   "cell_type": "code",
   "execution_count": 24,
   "id": "66a18884-7466-4918-8ca7-0501bda6e217",
   "metadata": {},
   "outputs": [
    {
     "name": "stdout",
     "output_type": "stream",
     "text": [
      "T:156\n",
      "O:87\n",
      "C:72\n",
      "D:62\n",
      " :56\n",
      "A:55\n",
      "X:55\n",
      "G:53\n",
      "J:50\n",
      "E:38\n",
      "I:32\n",
      "N:25\n",
      "P:25\n",
      "W:25\n",
      "Y:23\n",
      "H:21\n",
      "S:15\n",
      "K:11\n",
      "F:11\n",
      "U:10\n",
      "R:9\n",
      "M:9\n",
      "L:5\n",
      "Z:1\n",
      "V:1\n",
      "B:1\n",
      "NRE TQWIE BDWE AET ANIENLREA SWN TA CTI TA NRE EYE LTO AEE AWIISWOUEU BY DWAR MIEEO CSIEANA TOU ISLKY LDHCCA NRE ALEON SC GHOE TOU ATDN CHDDA NRE THI FRHDE NRE MEONDE ASWOU SC FTVEA LITARHOM TMTHOAN NRE ARSIE LIETNEA T LTDPHOM TPBHTOLE T VTIHENY SC FHDUDHCE ISTPA NRE TIET CISP TMHDE UEEI NS PTJEANHL ETMDEA ASTIHOM SVEIRETU NRE MISWOU HA ASCN TOU PSAAY FHNR SLLTAHSOTD GTNLREA SC LIWOLRY MITVED NRE AWO LTANA T FTIP MDSF SVEI EVEIYNRHOM FHNR SLLTAHSOTD MWANA SC FHOU LTIIYHOM NRE TISPT SC BDSSPHOM CDSFEIA T FHOUHOM IHVEI AOTKEA NRISWMR NRE DTOUALTGE GISVHUHOM T AEIEOE BTLKUISG CSI CHARHOM SI LTOSEHOM HO NRE UHANTOLE AOSFLTGGEU PSWONTHOA LTO BE AEEO T ANTIK LSONITAN TMTHOAN NRE VEIUTON AWIISWOUHOMA NRE TNPSAGREIE HA AEIEOE FHNR NRE SLLTAHSOTD LRHIG SC BHIUA TUUHOM NS NRE GETLECWD AWIISWOUHOMA NRHA HA T GDTLE SC NITOXWHDHNY FREIE SOE LTO BTAK HO NRE BETWNY SC OTNWIE TOU CSIMEN NRE FSIIHEA SC NRE FSIDU \n",
      "\n",
      "THE AZURE BLUE SEA STRETCHES OUT AS FAR AS THE EYE CAN SEE SURROUNDED BY LUSH GREEN FORESTS AND ROCKY CLIFFS THE SCENT OF PINE AND SALT FILLS THE AIR WHILE THE GENTLE SOUND OF WAVES CRASHING AGAINST THE SHORE CREATES A CALMING AMBIANCE A VARIETY OF WILDLIFE ROAMS THE AREA FROM AGILE DEER TO MAJESTIC EAGLES SOARING OVERHEAD THE GROUND IS SOFT AND MOSSY WITH OCCASIONAL PATCHES OF CRUNCHY GRAVEL THE SUN CASTS A WARM GLOW OVER EVERYTHING WITH OCCASIONAL GUSTS OF WIND CARRYING THE AROMA OF BLOOMING FLOWERS A WINDING RIVER SNAKES THROUGH THE LANDSCAPE PROVIDING A SERENE BACKDROP FOR FISHING OR CANOEING IN THE DISTANCE SNOWCAPPED MOUNTAINS CAN BE SEEN A STARK CONTRAST AGAINST THE VERDANT SURROUNDINGS THE ATMOSPHERE IS SERENE WITH THE OCCASIONAL CHIRP OF BIRDS ADDING TO THE PEACEFUL SURROUNDINGS THIS IS A PLACE OF TRANQUILITY WHERE ONE CAN BASK IN THE BEAUTY OF NATURE AND FORGET THE WORRIES OF THE WORLD\n"
     ]
    }
   ],
   "source": [
    "# Generated short message\n",
    "short_message = \"AEOTCZHXOTRNHOTDOCTDAXOAIEODTGHATCDTYCXTCDTAEOTOUOTIC TDOOTDHXXGH POPTRUTNHDETWXOO TYGXODADTC PTXGILUTINJYYDTAEOTDIO ATGYTKJ OTC PTDCNATYJNNDTAEOTCJXTSEJNOTAEOTWO ANOTDGH PTGYTSCMODTIXCDEJ WTCWCJ DATAEOTDEGXOTIXOCAODTCTICNFJ WTCFRJC IOTCTMCXJOAUTGYTSJNPNJYOTXGCFDTAEOTCXOCTYXGFTCWJNOTPOOXTAGTFCVODAJITOCWNODTDGCXJ WTGMOXEOCPTAEOTWXGH PTJDTDGYATC PTFGDDUTSJAETGIICDJG CNTKCAIEODTGYTIXH IEUTWXCMONTAEOTDH TICDADTCTSCXFTWNGSTGMOXTOMOXUAEJ WTSJAETGIICDJG CNTWHDADTGYTSJ PTICXXUJ WTAEOTCXGFCTGYTRNGGFJ WTYNGSOXDTCTSJ PJ WTXJMOXTD CLODTAEXGHWETAEOTNC PDICKOTKXGMJPJ WTCTDOXO OTRCILPXGKTYGXTYJDEJ WTGXTIC GOJ WTJ TAEOTPJDAC IOTD GSICKKOPTFGH ACJ DTIC TROTDOO TCTDACXLTIG AXCDATCWCJ DATAEOTMOXPC ATDHXXGH PJ WDTAEOTCAFGDKEOXOTJDTDOXO OTSJAETAEOTGIICDJG CNTIEJXKTGYTRJXPDTCPPJ WTAGTAEOTKOCIOYHNTDHXXGH PJ WDTAEJDTJDTCTKNCIOTGYTAXC BHJNJAUTSEOXOTG OTIC TRCDLTJ TAEOTROCHAUTGYT CAHXOTC PTYGXWOATAEOTSGXXJODTGYTAEOTSGXNP\"\n",
    "# Finds and lists frequency of each letter\n",
    "letter_counts=Counter(short_message)\n",
    "for letter,count in letter_counts.most_common():\n",
    "    print(f\"{letter}:{count}\")\n",
    "\n",
    "# Pairs letters based on frequency\n",
    "substitution_map= {'T': ' ', 'O': 'E', 'C': 'T', 'D': 'A', ' ': 'O', 'A': 'N', 'X': 'I', 'G': 'S', 'J': 'H', 'E': 'R', 'I': 'L', 'N': 'D', 'P': 'U', 'W': 'M', 'Y': 'C', 'H': 'W', 'S': 'F', 'K': 'G', 'F': 'P', 'U': 'Y', 'R': 'B', 'M': 'V', 'L': 'K', 'Z': 'Q', 'V': 'J', 'B': 'X'}\n",
    "first = substitute(short_message,substitution_map)\n",
    "print(first, '\\n')\n",
    "\n",
    "# Adjust mappings until correct message is reached\n",
    "substitution_map= {'N': 'T', 'R': 'H', 'E': 'E', ' ': ' ', 'T': 'A', 'Q': 'Z', 'W': 'U', 'I': 'R', 'B': 'B', 'D': 'L', 'A': 'S', 'L': 'C', 'S': 'O', 'C': 'F', 'Y': 'Y', 'O': 'N', 'U': 'D', 'M': 'G', 'H': 'I', 'G': 'P', 'F': 'W', 'P': 'M', 'X': 'Q'}\n",
    "print(substitute(first,substitution_map))\n"
   ]
  },
  {
   "cell_type": "markdown",
   "id": "850e9bcf-1c7c-4e9b-b629-8b8eba6199f3",
   "metadata": {},
   "source": [
    "19/26 mappings required adjustment for the generated short message."
   ]
  },
  {
   "cell_type": "code",
   "execution_count": 25,
   "id": "ea528b5f-ca1e-4442-8fd6-212da49a3380",
   "metadata": {},
   "outputs": [
    {
     "name": "stdout",
     "output_type": "stream",
     "text": [
      "E:308\n",
      "R:210\n",
      "A:138\n",
      "O:136\n",
      "X:129\n",
      "Q:116\n",
      "H:110\n",
      "F:105\n",
      "L:94\n",
      "T:85\n",
      "P:77\n",
      "J:61\n",
      "S:49\n",
      "K:47\n",
      "G:37\n",
      "I:35\n",
      "N:35\n",
      "D:34\n",
      "V:33\n",
      "C:22\n",
      "U:19\n",
      "Z:15\n",
      " :8\n",
      "B:5\n",
      "Y:3\n",
      "M:2\n",
      "W:1\n",
      "':1\n",
      "TI A JWTEO VTLLACE IENOLED DEEY FTORTI A DEINE PHSENO A UACTMAL OALE WIPHLDN A NOHSG HP EIMRAIOUEIO AID FHIDES FRESE UGORTMAL MSEAOWSEN DAIME BEIEAOR ORE UHHILTO NKG PATSTEN FTOR DELTMAOE FTICN NRTUUESTIC TI RWEN HP NTLVES AID CHLD PLTO PSHU PLHFES OH PLHFES NYSEADTIC ORETS EORESEAL CLHF ORE AIMTEIO OSEEN FRTNYES NEMSEON TI RWNRED OHIEN AN ORE CEIOLE BSEEZE MASSTEN ORETS FHSDN OH ORHNE FRH LTNOEI A UGNOTMAL AWSA YESUEAOEN ORE ATS MANOTIC A NYELL HP OSAIJWTLTOG AID AFE WYHI ALL FRH VEIOWSE TIOH ORTN UGNOTMAL SEALU UACTMAL BETICN AID UAXENOTM MSEAOWSEN MHEQTNO TI RASUHIG AI ELWNTVE WITMHSI FTOR A LWUTIHWN RHSI CSAMEPWLLG NOSTDEN ORSHWCR PTELDN HP FTLDPLHFESN TON UAIE PLHFTIC LTKE A MANMADE HP NOASLTCRO A UTNMRTEVHWN CIHUE YEEKN HWO PSHU BERTID A UWNRSHHU YLAGPWLLG OEANTIC A NRTUUESTIC YTQTE ORE LAWCROES HP MRTLDSEI EMRHEN ORSHWCR ORE UEADHFN AN OREG MRANE ELWNTVE PTSEPLTEN ORETS CTCCLEN BLEIDTIC FTOR ORE NGUYRHIG HP IAOWSE'N UELHDG RTDDEI OSEANWSEN AFATO DTNMHVESG TI RTDDEI CLEIN AID NYASKLTIC NOSEAUN FRESE UESUATDN FTOR TSTDENMEIO OATLN FEAVE TIOSTMAOE UELHDTEN LWSTIC FAIDESESN TIOH ORETS FAOESG DEYORN ORE ITCRO NKG BEMHUEN A MELENOTAL MAIVAN ADHSIED FTOR MHINOELLAOTHIN ORAO OELL OALEN HP RESHEN AID EYTM JWENON ORE VTLLACE TN A NAIMOWASG HP DSEAUN FRESE TUACTIAOTHI OAKEN PLTCRO AID TUYHNNTBTLTOTEN BEMHUE YHNNTBTLTOTEN RESE UACTM TN IHO UESELG A IHOTHI BWO A OAICTBLE PHSME ORAO BSEAOREN LTPE TIOH EVESG IHHK AID MSAIIG ORE ATS TN MRASCED FTOR YHNNTBTLTOG AN ORE BHWIDASTEN HP SEALTOG ASE CEIOLG YWNRED ANTDE OH EUBSAME ORE EQOSAHSDTIASG TI ORTN EIMRAIOED RAVEI ORE EVESGDAG BEMHUEN EQOSAHSDTIASG AID ORE UWIDAIE OAKEN HI A OHWMR HP FHIDES TI ORTN SEALU HP UACTM AID EIMRAIOUEIO FRESE DSEAUN MHUE ALTVE TI A NGUYRHIG HP MHLHSN AID FRTNYESN HP ADVEIOWSE A FHSLD BEGHID ORE SEALU HP SEANHI FRESE ORE EQOSAHSDTIASG TN NTUYLG HSDTIASG AID ORE TUYHNNTBLE TN XWNO AIHORES MRAYOES FATOTIC OH BE FSTOOEI \n",
      "\n",
      "IN A QUIET VILLAGE NESTLED DEEP WITHIN A DENSE FOREST A MAGICAL TALE UNFOLDS A STORY OF ENCHANTMENT AND WONDER WHERE MYTHICAL CREATURES DANCE BENEATH THE MOONLIT SKY FAIRIES WITH DELICATE WINGS SHIMMERING IN HUES OF SILVER AND GOLD FLIT FROM FLOWER TO FLOWER SPREADING THEIR ETHEREAL GLOW THE ANCIENT TREES WHISPER SECRETS IN HUSHED TONES AS THE GENTLE BREEZE CARRIES THEIR WORDS TO THOSE WHO LISTEN A MYSTICAL AURA PERMEATES THE AIR CASTING A SPELL OF TRANQUILITY AND AWE UPON ALL WHO VENTURE INTO THIS MYSTICAL REALM MAGICAL BEINGS AND MAJESTIC CREATURES COEXIST IN HARMONY AN ELUSIVE UNICORN WITH A LUMINOUS HORN GRACEFULLY STRIDES THROUGH FIELDS OF WILDFLOWERS ITS MANE FLOWING LIKE A CASCADE OF STARLIGHT A MISCHIEVOUS GNOME PEEKS OUT FROM BEHIND A MUSHROOM PLAYFULLY TEASING A SHIMMERING PIXIE THE LAUGHTER OF CHILDREN ECHOES THROUGH THE MEADOWS AS THEY CHASE ELUSIVE FIREFLIES THEIR GIGGLES BLENDING WITH THE SYMPHONY OF NATURE'S MELODY HIDDEN TREASURES AWAIT DISCOVERY IN HIDDEN GLENS AND SPARKLING STREAMS WHERE MERMAIDS WITH IRIDESCENT TAILS WEAVE INTRICATE MELODIES LURING WANDERERS INTO THEIR WATERY DEPTHS THE NIGHT SKY BECOMES A CELESTIAL CANVAS ADORNED WITH CONSTELLATIONS THAT TELL TALES OF HEROES AND EPIC QUESTS THE VILLAGE IS A SANCTUARY OF DREAMS WHERE IMAGINATION TAKES FLIGHT AND IMPOSSIBILITIES BECOME POSSIBILITIES HERE MAGIC IS NOT MERELY A NOTION BUT A TANGIBLE FORCE THAT BREATHES LIFE INTO EVERY NOOK AND CRANNY THE AIR IS CHARGED WITH POSSIBILITY AS THE BOUNDARIES OF REALITY ARE GENTLY PUSHED ASIDE TO EMBRACE THE EXTRAORDINARY IN THIS ENCHANTED HAVEN THE EVERYDAY BECOMES EXTRAORDINARY AND THE MUNDANE TAKES ON A TOUCH OF WONDER IN THIS REALM OF MAGIC AND ENCHANTMENT WHERE DREAMS COME ALIVE IN A SYMPHONY OF COLORS AND WHISPERS OF ADVENTURE A WORLD BEYOND THE REALM OF REASON WHERE THE EXTRAORDINARY IS SIMPLY ORDINARY AND THE IMPOSSIBLE IS JUST ANOTHER CHAPTER WAITING TO BE WRITTEN\n"
     ]
    }
   ],
   "source": [
    "# Generated long message\n",
    "long_message = \"AHEOEYIARXEZAPPOGREHRQXPRJEJRRCENAXTAHEOEJRHQREVLFRQXEOESOGAKOPEXOPREIHVLPJQEOEQXLFDELVERHKTOHXSRHXEOHJENLHJRFENTRFRESDXTAKOPEKFROXIFRQEJOHKREURHROXTEXTRESLLHPAXEQ DEVOAFARQENAXTEJRPAKOXRENAHGQEQTASSRFAHGEAHETIRQELVEQAPZRFEOHJEGLPJEVPAXEVFLSEVPLNRFEXLEVPLNRFEQCFROJAHGEXTRAFERXTRFROPEGPLNEXTREOHKARHXEXFRRQENTAQCRFEQRKFRXQEAHETIQTRJEXLHRQEOQEXTREGRHXPREUFRRWREKOFFARQEXTRAFENLFJQEXLEXTLQRENTLEPAQXRHEOESDQXAKOPEOIFOECRFSROXRQEXTREOAFEKOQXAHGEOEQCRPPELVEXFOHYIAPAXDEOHJEONREICLHEOPPENTLEZRHXIFREAHXLEXTAQESDQXAKOPEFROPSESOGAKOPEURAHGQEOHJESOMRQXAKEKFROXIFRQEKLRBAQXEAHETOFSLHDEOHERPIQAZREIHAKLFHENAXTEOEPISAHLIQETLFHEGFOKRVIPPDEQXFAJRQEXTFLIGTEVARPJQELVENAPJVPLNRFQEAXQESOHREVPLNAHGEPA REOEKOQKOJRELVEQXOFPAGTXEOESAQKTARZLIQEGHLSRECRR QELIXEVFLSEURTAHJEOESIQTFLLSECPODVIPPDEXROQAHGEOEQTASSRFAHGECABAREXTREPOIGTXRFELVEKTAPJFRHERKTLRQEXTFLIGTEXTRESROJLNQEOQEXTRDEKTOQRERPIQAZREVAFRVPARQEXTRAFEGAGGPRQEUPRHJAHGENAXTEXTREQDSCTLHDELVEHOXIFR'QESRPLJDETAJJRHEXFROQIFRQEONOAXEJAQKLZRFDEAHETAJJRHEGPRHQEOHJEQCOF PAHGEQXFROSQENTRFRESRFSOAJQENAXTEAFAJRQKRHXEXOAPQENROZREAHXFAKOXRESRPLJARQEPIFAHGENOHJRFRFQEAHXLEXTRAFENOXRFDEJRCXTQEXTREHAGTXEQ DEURKLSRQEOEKRPRQXAOPEKOHZOQEOJLFHRJENAXTEKLHQXRPPOXALHQEXTOXEXRPPEXOPRQELVETRFLRQEOHJERCAKEYIRQXQEXTREZAPPOGREAQEOEQOHKXIOFDELVEJFROSQENTRFREASOGAHOXALHEXO RQEVPAGTXEOHJEASCLQQAUAPAXARQEURKLSRECLQQAUAPAXARQETRFRESOGAKEAQEHLXESRFRPDEOEHLXALHEUIXEOEXOHGAUPREVLFKREXTOXEUFROXTRQEPAVREAHXLERZRFDEHLL EOHJEKFOHHDEXTREOAFEAQEKTOFGRJENAXTECLQQAUAPAXDEOQEXTREULIHJOFARQELVEFROPAXDEOFREGRHXPDECIQTRJEOQAJREXLERSUFOKREXTRERBXFOLFJAHOFDEAHEXTAQERHKTOHXRJETOZRHEXTRERZRFDJODEURKLSRQERBXFOLFJAHOFDEOHJEXTRESIHJOHREXO RQELHEOEXLIKTELVENLHJRFEAHEXTAQEFROPSELVESOGAKEOHJERHKTOHXSRHXENTRFREJFROSQEKLSREOPAZREAHEOEQDSCTLHDELVEKLPLFQEOHJENTAQCRFQELVEOJZRHXIFREOENLFPJEURDLHJEXTREFROPSELVEFROQLHENTRFREXTRERBXFOLFJAHOFDEAQEQASCPDELFJAHOFDEOHJEXTREASCLQQAUPREAQEMIQXEOHLXTRFEKTOCXRFENOAXAHGEXLEURENFAXXRH\"\n",
    "\n",
    "# Finds and lists frequency of each letter\n",
    "letter_counts=Counter(long_message)\n",
    "for letter,count in letter_counts.most_common():\n",
    "    print(f\"{letter}:{count}\")\n",
    "\n",
    "# Pairs letters based on frequency    \n",
    "substitution_map= { 'E': ' ', 'R': 'E', 'A': 'T', 'O': 'A', 'X': 'O', 'Q': 'N', 'H': 'I', 'F': 'S', 'L': 'H', 'T': 'R', 'P': 'L', 'J': 'D', 'S': 'U', 'K': 'M', 'G': 'C', 'I': 'W', 'N': 'F', 'D': 'G', 'V': 'P', 'C': 'Y', 'U': 'B', 'Z': 'V', ' ': 'K', 'B': 'Q', 'Y': 'J', 'M': 'X', 'W':'Z'}\n",
    "first = substitute(long_message,substitution_map)\n",
    "print(first, '\\n')\n",
    "\n",
    "# Adjust mappings until correct message is reached\n",
    "substitution_map= { 'T': 'I', 'I': 'N','J': 'Q', 'W': 'U', 'O': 'T', 'C': 'G', 'N': 'S', 'Y': 'P', 'F': 'W', 'R': 'H', 'P': 'F', 'H': 'O', 'S': 'R', 'U': 'M', 'M': 'C', 'G': 'Y', 'X': 'J', 'Q': 'X'}\n",
    "print(substitute(first,substitution_map))"
   ]
  },
  {
   "cell_type": "markdown",
   "id": "f75da7ee",
   "metadata": {},
   "source": [
    "18/27 mappings required adjustment in the generated long message. While 14/26 mappings required adjustment in the Sherlock Holmes we previously looked at. The results from the examples above support the claims we made, as a greater proportion of changes is needed for the shorter messages. \n",
    "\n",
    "There are many methods to quantify manual adjustment:\n",
    "1. Count the number of incorrect mappings tried before finding the correct mapping. This gives us an estimate of the amount of trial and error needed to solve the cipher.\n",
    "\n",
    "2. Time how long it takes to analyze the message and find the correct mapping. This gives us an indication of the amount of effort needed to solve the cipher.\n",
    "\n",
    "3. Calculate the percentage of characters that were mapped incorrectly. This gives us an estimate of the accuracy in solving the cipher.\n",
    "\n",
    "For the examples above, we have used the third method as it allows to compare the results with less diffculty.\n",
    "\n",
    "It is not possible to represent all permutations graphically due to space limitations. For a graphical representation of frequency analysis, it is more practical to use histograms to show the most frequent words/characters."
   ]
  },
  {
   "cell_type": "code",
   "execution_count": 26,
   "id": "6bf0cc9e",
   "metadata": {},
   "outputs": [
    {
     "name": "stdout",
     "output_type": "stream",
     "text": [
      "HKCCY\n",
      "KTBBJ\n"
     ]
    }
   ],
   "source": [
    "# Random encryption. We want to randomly generate an encryption scheme.\n",
    "\n",
    "def encrypt(message):\n",
    "    numbers = [i for i in range(27)]\n",
    "\n",
    "    random.shuffle(numbers)\n",
    "    \n",
    "    encryption_map = {}\n",
    "    \n",
    "    for i in range(27):\n",
    "        encryption_map[alphabet[i]] = alphabet[numbers[i]]\n",
    "    \n",
    "    return substitute(message.upper(), encryption_map).upper()\n",
    "\n",
    "# Simple example\n",
    "print(encrypt('HELLO'))\n",
    "print(encrypt('HELLO'))\n"
   ]
  },
  {
   "cell_type": "markdown",
   "id": "513a3278-5982-4359-8a00-527ee0315817",
   "metadata": {},
   "source": [
    "We have used the encrypt function above to generate the ciphertext for the short and long messages used above."
   ]
  },
  {
   "cell_type": "markdown",
   "id": "abe00007",
   "metadata": {},
   "source": [
    "## 7 - Analysis of the Simulated Annealing Procedure"
   ]
  },
  {
   "cell_type": "markdown",
   "id": "d0ef6164",
   "metadata": {},
   "source": [
    "There are many different ways to choose the annealing schedule, including starting with different T values and varying its rate of decrease. We are interested in which choice is optimal for maximising the score function for any given message (which will result in the most likely correct decryption).\n",
    "\n",
    "We first define a `met_scores()` function which is almost the same as `met()` except that rather than returning the best message at the end, it stores the score of the best message at each step in a list and then returns this list. Moreover, there is an additional parameter `fixed` which defaults to `False`. This allows us to analyse the algorithm with a fixed `T` rather than a decreasing one."
   ]
  },
  {
   "cell_type": "code",
   "execution_count": 27,
   "id": "17ca1980",
   "metadata": {},
   "outputs": [],
   "source": [
    "def met_scores(message, steps, T, fixed=False):\n",
    "    best = message\n",
    "    scores = []\n",
    "    for i in range(steps + 1):\n",
    "        # For each step, choose two random numbers between 0 and 26 \n",
    "        # to represent the letters of the alphabet and space.\n",
    "\n",
    "        a = random.randint(0,26)\n",
    "        b = random.randint(0,26)\n",
    "        \n",
    "        # Then use the same substitution map as earlier to swap the roles of these characters.\n",
    "                \n",
    "        substitution_map = {} \n",
    "        substitution_map[alphabet[a]] = alphabet[b]\n",
    "        substitution_map[alphabet[b]] = alphabet[a]\n",
    "\n",
    "        alternative = substitute(best, substitution_map)\n",
    "        \n",
    "        # Then we calculate the scores of the message previously chosen as 'best' and\n",
    "        # our newly found 'alternative' message obtained by switching roles of two characters.\n",
    "        best_score = score(best)\n",
    "        alternative_score = score(alternative)\n",
    "        \n",
    "        # If the alternative message scores higher, we want that to be the new 'best' message \n",
    "        if alternative_score > best_score:\n",
    "            best = alternative            \n",
    "        \n",
    "        # If the alternative message scores less than the current best, replace the best message\n",
    "        # with the alternative with given probablility (only do this if T doesn't equal 0 so the\n",
    "        # calculation is defined).\n",
    "        elif T != 0:\n",
    "            if random.random() < np.exp((alternative_score - best_score)/T):\n",
    "                best = alternative                \n",
    "        \n",
    "        # Do not descrease the value of T with time if fixed=True\n",
    "        if T != 0 and not fixed:\n",
    "            T -= T/(steps+1)\n",
    "        \n",
    "        # Append the current value of the 'best' message to 'scores'.\n",
    "        scores.append(score(best))\n",
    "\n",
    "    \n",
    "    return scores"
   ]
  },
  {
   "cell_type": "markdown",
   "id": "e0b71ab0",
   "metadata": {},
   "source": [
    "We first compare a standard annealing schedule `annealing` starting from T=2, a schedule `no_annealing` with T=0 (this specific procedure is an example of the greedy algorithm as it makes the 'locally' optimal choice on each iteration, never accepting a message with a lower score), and a schedule `fixed` with a fixed T=2 for every step. The graph keeps track of the score of best current guess of the decoded message at every step and how the progress differs for each schedule."
   ]
  },
  {
   "cell_type": "code",
   "execution_count": 28,
   "id": "a594a802",
   "metadata": {},
   "outputs": [
    {
     "data": {
      "image/png": "[encoded data removed]",
      "text/plain": [
       "<Figure size 1152x288 with 1 Axes>"
      ]
     },
     "metadata": {
      "needs_background": "light"
     },
     "output_type": "display_data"
    },
    {
     "data": {
      "image/png": "[encoded data removed]",
      "text/plain": [
       "<Figure size 1152x288 with 1 Axes>"
      ]
     },
     "metadata": {
      "needs_background": "light"
     },
     "output_type": "display_data"
    }
   ],
   "source": [
    "message_five = ciphertexts[5]\n",
    "\n",
    "# Import the pyplot library from matplotlib for powerful graphing tools\n",
    "from matplotlib import pyplot as plt\n",
    "\n",
    "# We are plotting two trials for replication \n",
    "for i in range(2):    \n",
    "    annealing = met_scores(message_five,30000,2)\n",
    "    no_annealing = met_scores(message_five,30000,0)\n",
    "    fixed = met_scores(message_five,30000,2,fixed=True)\n",
    "    \n",
    "    # Each element of the list of scores generated by met_scores() represents the score at a step.\n",
    "    # Let the step number be the x-axis and the score associated with it be the y-axis.\n",
    "    plt.figure(figsize=(16,4))\n",
    "    plt.plot([i for i in range(30001)],annealing,label='annealing')\n",
    "    plt.plot([i for i in range(30001)],no_annealing,label='T=0')\n",
    "    plt.plot([i for i in range(30001)],fixed,label='fixed')\n",
    "    \n",
    "    # Only put a title on the first graph\n",
    "    if i == 0:\n",
    "        plt.title('Comparison of the progress of the Metropolis algorithm with different annealing procedures - 2 trials')\n",
    "    \n",
    "    plt.xlabel('Steps')\n",
    "    plt.ylabel('Best Score')\n",
    "\n",
    "    plt.legend()\n",
    "    plt.show()"
   ]
  },
  {
   "cell_type": "markdown",
   "id": "021edb2f",
   "metadata": {},
   "source": [
    "We notice that the T=0 schedule is the least chaotic and converges to a solution very early, which may or may not be optimal (usually not). Since the algorithm cannot accept candidates that do not improve the score function, it is very prone to converging to a local maximum with each iteration rather than the global maximum which is what we are looking for. The figure below shows a simple example of this concept (however, our score function is far more complex than the function shown with a greater number of 'dimensions').\n",
    "\n",
    "The fixed T schedule represents the most chaotic of the three, as it is equally likely to select a suboptimal solution at every stage of the algorithm. This allows it to potentially 'escape' from local maxima if they are shallow enough and find the global maximum instead. However, due to its chaotic nature, it is susceptible to never converging to a solution at all which can be a problem if you're trying to find a specific message.\n",
    "\n",
    "The standard annealing schedule acts as a combination of the other two, being very volatile at the start to escape local maxima and then converging towards the most probable global maxima at the end, but we can see in the graph that the fixed schedule can reach guesses better than that of the annealing schedule (with the same caveat of no convergence). This indicates that some tweaking of the annealing schedule is needed in order for it to converge to the actual global maximum.\n",
    "\n",
    "----"
   ]
  },
  {
   "cell_type": "code",
   "execution_count": 29,
   "id": "a7037964",
   "metadata": {
    "tags": []
   },
   "outputs": [
    {
     "data": {
      "text/html": [
       "<img src=\"https://codemonk.in/blog/content/images/size/w2000/2022/02/MOO-Feature-Image-1.png\" width=\"600\" height=\"600\"/>"
      ],
      "text/plain": [
       "<IPython.core.display.Image object>"
      ]
     },
     "execution_count": 29,
     "metadata": {},
     "output_type": "execute_result"
    }
   ],
   "source": [
    "from IPython.display import Image\n",
    "from IPython.core.display import HTML \n",
    "Image(url='https://codemonk.in/blog/content/images/size/w2000/2022/02/MOO-Feature-Image-1.png', width=600, height=600)"
   ]
  },
  {
   "cell_type": "markdown",
   "id": "398857a9",
   "metadata": {},
   "source": [
    "### A graph showing the traversal through local and global extrema [4]\n",
    "------"
   ]
  },
  {
   "cell_type": "markdown",
   "id": "d62485b9",
   "metadata": {},
   "source": [
    "We want to show how varying the T value can affect the annealing schedule for decoding the same message as before. We repeat the experiment 3 times due to the stochastic nature of the algorithm."
   ]
  },
  {
   "cell_type": "code",
   "execution_count": null,
   "id": "53151580",
   "metadata": {},
   "outputs": [
    {
     "data": {
      "image/png": "[encoded data removed]",
      "text/plain": [
       "<Figure size 1152x288 with 1 Axes>"
      ]
     },
     "metadata": {
      "needs_background": "light"
     },
     "output_type": "display_data"
    }
   ],
   "source": [
    "# We are plotting three trials for replication \n",
    "for i in range(3):    \n",
    "    half = met_scores(message_five,30000,0.5)\n",
    "    one = met_scores(message_five,30000,1)\n",
    "    two = met_scores(message_five,30000,2)\n",
    "    three = met_scores(message_five,30000,3)\n",
    "    five = met_scores(message_five,30000,5)\n",
    "\n",
    "    plt.figure(figsize=(16,4))\n",
    "    plt.plot([i for i in range(30001)],half,label='T = 0.5')\n",
    "    plt.plot([i for i in range(30001)],one,label='T = 1')\n",
    "    plt.plot([i for i in range(30001)],two,label='T = 2')\n",
    "    plt.plot([i for i in range(30001)],three,label='T = 3')\n",
    "    plt.plot([i for i in range(30001)],five,label='T = 5')\n",
    "    \n",
    "    if i == 0:\n",
    "        plt.title('Comparison of progress of the Metropolis algorithm using different T values - 3 trials')\n",
    "    plt.xlabel('Steps')\n",
    "    plt.ylabel('Best Score')\n",
    "\n",
    "    plt.ylim(-550, -280)\n",
    "    plt.legend()\n",
    "    plt.show()"
   ]
  },
  {
   "cell_type": "markdown",
   "id": "fd114266",
   "metadata": {},
   "source": [
    "There doesn't seem to be any clear winner for this message - this could be down to the message being relatively easy to decode which would allow most methods to make a good guess of solutions with a few trials (though T$\\approx$2 seems to converge closest to the global maximum each time).\n",
    "\n",
    "The progress of an annealing schedule can vary significantly for different messages as the set of feasible solutions will be different, resulting in different 'loss landscapes' to be explored (see below). "
   ]
  },
  {
   "cell_type": "code",
   "execution_count": null,
   "id": "10123c7b",
   "metadata": {},
   "outputs": [],
   "source": [
    "# Comparing different T values with different message\n",
    "message_seven = ciphertexts[7]\n",
    "\n",
    "for i in range(2):    \n",
    "    one = met_scores(message_seven,100000,1)\n",
    "    two = met_scores(message_seven,100000,2)\n",
    "    five = met_scores(message_seven,100000,5)\n",
    "\n",
    "    plt.figure(figsize=(18,4))\n",
    "    plt.plot([i for i in range(100001)],one,label='T = 1')\n",
    "    plt.plot([i for i in range(100001)],two,label='T = 2')\n",
    "    plt.plot([i for i in range(100001)],five,label='T = 5')\n",
    "\n",
    "    if i == 0:\n",
    "        plt.title('Comparison of Progress of the Metropolis Algorithm using different T values for a different message - 2 trials')\n",
    "    plt.xlabel('Steps')\n",
    "    plt.ylabel('Best Score')\n",
    "    \n",
    "    plt.ylim(-220, -70)\n",
    "\n",
    "    plt.legend()\n",
    "    plt.show()"
   ]
  },
  {
   "cell_type": "markdown",
   "id": "9ecba1ec",
   "metadata": {},
   "source": [
    "For this message, the progress of each algotihm was much more chaotic. This could indicate a much bumpier loss landscape (as shown below) meaning that there are far more local maxima to escape, making the global maximum far more difficult to find or maybe even close to a multimodal  function with multiple global maxima . This also implies that a higher T value would be more effective to search more of the feasible region. \n",
    "\n",
    "---"
   ]
  },
  {
   "cell_type": "code",
   "execution_count": null,
   "id": "a05b6efa",
   "metadata": {
    "tags": []
   },
   "outputs": [],
   "source": [
    "Image(url= \"https://www.researchgate.net/publication/350030768/figure/fig4/AS:1003786738888706@1616332816288/An-illustration-of-multimodal-function.png\", width=400, height=400)"
   ]
  },
  {
   "cell_type": "markdown",
   "id": "549cf220",
   "metadata": {},
   "source": [
    "### A more multimodal function [5]\n",
    "\n",
    "----"
   ]
  },
  {
   "cell_type": "markdown",
   "id": "e73d9d57",
   "metadata": {},
   "source": [
    "Contrary to this assumption, the graph seems to show that higher T values lead to far worse solutions. Another thing that makes this strange is that during decoding efforts, we did actually find that a higher T value was more effective for finding 'valid' solutions. A reason for this could be a deficiency in the score function itself. Each message is scored on how close its combination of characters are to those in the novel Moby-Dick. However, this method isn't perfect and its limitations can be seen in this message with a very bumpy feasible region."
   ]
  },
  {
   "cell_type": "code",
   "execution_count": null,
   "id": "ef4cf363",
   "metadata": {},
   "outputs": [],
   "source": [
    "print(f'\"FROM THE BEGINNING THINK WHAT MAY BE THE END\" = {score(\"FROM THE BEGINNING THINK WHAT MAY BE THE END\")}')\n",
    "print(f'\"FLOW THE BEGINNING THINK CHAT WAY BE THE END\" = {score(\"FLOW THE BEGINNING THINK CHAT WAY BE THE END\")}')\n",
    "print(f'\"FOUL THE BEGINNING THINK WHAT LAY BE THE END\" = {score(\"FOUL THE BEGINNING THINK WHAT LAY BE THE END\")}')\n",
    "print(f'\"MOUS THE BEDINNIND THING CHAT SAY BE THE ENL\" = {score(\"MOUS THE BEDINNIND THING CHAT SAY BE THE ENL\")}')"
   ]
  },
  {
   "cell_type": "markdown",
   "id": "5d88fa34",
   "metadata": {},
   "source": [
    "This code shows us the scores for four feasible solutions (out of many more similar solutions). What is surprising about this is that the solution that looks the furthest from english has the lowest score. All of these solutions with a similar score is what is meant by a 'bumpy feasible region'. Since a higher T value allows a more vast search of this feasible region - and due to our Metropolis function being equipped with the handy spell checker from before that stores 'valid' messages - it was more helpful in decoding the message. \n",
    "\n",
    "So, our candidate solution for Message 7:\n",
    "\n",
    "---\n",
    "#### Message 7\n",
    "\n",
    "From the beginning, think what may be the end...\n",
    "\n",
    "---"
   ]
  },
  {
   "cell_type": "markdown",
   "id": "6e88926a-2240-4351-9bdb-469bb03e7500",
   "metadata": {},
   "source": [
    "## 8 - Conclusion"
   ]
  },
  {
   "cell_type": "markdown",
   "id": "c010a25e-8f4f-4076-8be9-8616e35a521a",
   "metadata": {},
   "source": [
    "In conclusion, decryption methods have existed and have been used for the last couple of millennia using various techniques. From the basic Caesar cipher used by the Romans to the highly advanced Metropolis-Hastings algorithm, each method has its own advantages and disadvantages. However, each new method has built upon the successes and limitations of its predecessors, such as using frequency analysis to find a way to do thousands of Ceasar cyphers a second and the Metropolis-Hastings algorithm removing the human element that made up frequency analysis. Through techniques like simulation annealing, researchers have continued to refine these methods, improving their accuracy and speed. Decryption methods have become more sophisticated with developments in technology, and as technologies continue to improve and become more efficient so too will decryption methods."
   ]
  },
  {
   "cell_type": "markdown",
   "id": "70e5032b",
   "metadata": {},
   "source": [
    "## 9 - Bibliography"
   ]
  },
  {
   "cell_type": "markdown",
   "id": "f93b0652-b5ab-43b1-b460-650944c90066",
   "metadata": {},
   "source": [
    "[1] Simmons, G. J. (2022, August 2). Cryptology. Encyclopedia Britannica. https://www.britannica.com/topic/cryptology\n",
    "\n",
    "[2] Broemeling, L. D. (2011). An Account of Early Statistical Inference in Arab Cryptology. The American Statistician, 65(4), 255–257. http://www.jstor.org/stable/23339552\n",
    "\n",
    "[3] Stephanie Glen. \"Metropolis-Hastings Algorithm / Metropolis Algorithm\" From StatisticsHowTo.com https://www.statisticshowto.com/metropolis-hastings-algorithm/\n",
    "\n",
    "[4] Alexander Amini, Ava Soleimany, Sertac Karaman, Daniela Rus (2019). Spatial Uncertainty Sampling for End-to-End Control https://arxiv.org/pdf/1805.04829.pdf\n",
    "\n",
    "[5] Sun, Jialiang & Chen, Xianqi & Zhang, Jun & Yao, Wen. (2021). A niching cross-entropy method for multimodal satellite layout optimization design. Complex & Intelligent Systems. 7. 10.1007/s40747-021-00302-3. \n",
    "\n",
    "[6] Huang, Kerson (2009-09-21). Introduction to Statistical Physics (2nd ed.). CRC Press. p. 15. ISBN 978-1-4200-7902-9. \n"
   ]
  }
 ],
 "metadata": {
  "kernelspec": {
   "display_name": "Python 3 (ipykernel)",
   "language": "python",
   "name": "python3"
  },
  "language_info": {
   "codemirror_mode": {
    "name": "ipython",
    "version": 3
   },
   "file_extension": ".py",
   "mimetype": "text/x-python",
   "name": "python",
   "nbconvert_exporter": "python",
   "pygments_lexer": "ipython3",
   "version": "3.9.12"
  },
  "toc-autonumbering": false
 },
 "nbformat": 4,
 "nbformat_minor": 5
}
